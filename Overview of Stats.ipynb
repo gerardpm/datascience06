{
 "metadata": {
  "name": "",
  "signature": "sha256:0f9fbddfd77cb5128a3be80c420d88625d990f2a3fd19808e45847f628d35cfb"
 },
 "nbformat": 3,
 "nbformat_minor": 0,
 "worksheets": [
  {
   "cells": [
    {
     "cell_type": "code",
     "collapsed": false,
     "input": [
      "import pandas as pd"
     ],
     "language": "python",
     "metadata": {},
     "outputs": [],
     "prompt_number": 1
    },
    {
     "cell_type": "code",
     "collapsed": false,
     "input": [
      "data = '''Region, Alcohol, Tobacco\n",
      "North, 6.47, 4.03\n",
      "Yorkshire, 6.13, 3.76\n",
      "Northeast, 6.19, 3.77\n",
      "East Midlands, 4.89, 3.34\n",
      "West Midlands, 5.63, 3.47\n",
      "East Anglia, 4.52, 2.92\n",
      "Southeast, 5.89, 3.20\n",
      "Southwest, 4.79, 2.71\n",
      "Wales, 5.27, 3.53\n",
      "Scotland, 6.08, 4.51\n",
      "Northern Ireland, 4.02, 4.56'''"
     ],
     "language": "python",
     "metadata": {},
     "outputs": [],
     "prompt_number": 2
    },
    {
     "cell_type": "code",
     "collapsed": false,
     "input": [
      "data = [i.split(', ') for i in data] "
     ],
     "language": "python",
     "metadata": {},
     "outputs": [],
     "prompt_number": 3
    },
    {
     "cell_type": "code",
     "collapsed": false,
     "input": [
      "column_names = data[0]"
     ],
     "language": "python",
     "metadata": {},
     "outputs": [],
     "prompt_number": 4
    },
    {
     "cell_type": "code",
     "collapsed": false,
     "input": [
      "data_rows = data[1::]"
     ],
     "language": "python",
     "metadata": {},
     "outputs": [],
     "prompt_number": 5
    },
    {
     "cell_type": "code",
     "collapsed": false,
     "input": [
      "df = pd.DataFrame(data_rows, columns=column_names)"
     ],
     "language": "python",
     "metadata": {},
     "outputs": [],
     "prompt_number": 6
    },
    {
     "cell_type": "code",
     "collapsed": false,
     "input": [
      "from scipy import stats"
     ],
     "language": "python",
     "metadata": {},
     "outputs": [],
     "prompt_number": 7
    },
    {
     "cell_type": "raw",
     "metadata": {},
     "source": [
      "print 'Tobacco'"
     ]
    },
    {
     "cell_type": "code",
     "collapsed": false,
     "input": [],
     "language": "python",
     "metadata": {},
     "outputs": []
    }
   ],
   "metadata": {}
  }
 ]
}