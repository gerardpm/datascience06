{
 "metadata": {
  "name": "",
  "signature": "sha256:61f654a961ac20cd1f286c4690bef9a77524533a6bcf6a514f974038d9041f84"
 },
 "nbformat": 3,
 "nbformat_minor": 0,
 "worksheets": [
  {
   "cells": [
    {
     "cell_type": "code",
     "collapsed": false,
     "input": [
      "import pandas as pd\n",
      "import requests\n",
      "import time\n",
      "import datetime\n",
      "import sqlite3 as lite\n",
      "\n",
      "cities = { \"Atlanta\": '33.762909,-84.422675',\n",
      "           \"Boston\": '42.331960,-71.020173',\n",
      "           \"Chicago\": '41.837551,-87.681844',\n",
      "           \"Denver\": '39.761850,-104.881105',\n",
      "           \"Las Vegas\": '36.229214,-115.26008',\n",
      "           \"Los Angeles\": '34.019394,-118.410825',\n",
      "           \"Miami\": 'FL,25.775163,-80.208615'\n",
      "        }\n",
      "\n",
      "for city in cities.keys():\n",
      "    llstr = cities[city]\n",
      "    lllist = llstr.split(',')\n",
      "    lat = lllist[0]\n",
      "    lon = lllist[1]\n",
      "\n",
      "apikey = '1dc64ea7cfd540026a8359868cf035f4'\n",
      "lat = lllist[0]\n",
      "lon = lllist[1]\n",
      "\n",
      "time = datetime.datetime.now() - datetime.timedelta(days=30)\n",
      "start_date = datetime.datetime.now() - datetime.timedelta(days=30)\n",
      "end_date = datetime.datetime.now()\n",
      "utime = start_date.strftime('%H:%M:%S')\n",
      "rurl = 'https://api.forecast.io/forecast/' + apikey + '/' + lat + ',' + lon + ',' + utime\n",
      "print(rurl)\n",
      "\n",
      "con = lite.connect('weather.db')\n",
      "cur = con.cursor()\n",
      "cities.keys()\n",
      "with con:\n",
      "    cur.execute('CREATE TABLE daily_temp ( day_of_reading INT, \"Atlanta\" REAL, \"Boston\" REAL, \"Chicago\" REAL, \"Denver\" REAL, \"Las Vegas\" REAL, \"Los Angeles\" REAL, \"Miami\" REAL);')"
     ],
     "language": "python",
     "metadata": {},
     "outputs": [
      {
       "output_type": "stream",
       "stream": "stdout",
       "text": [
        "https://api.forecast.io/forecast/1dc64ea7cfd540026a8359868cf035f4/33.762909,-84.422675,12:42:47\n"
       ]
      },
      {
       "ename": "OperationalError",
       "evalue": "table daily_temp already exists",
       "output_type": "pyerr",
       "traceback": [
        "\u001b[1;31m---------------------------------------------------------------------------\u001b[0m\n\u001b[1;31mOperationalError\u001b[0m                          Traceback (most recent call last)",
        "\u001b[1;32m<ipython-input-2-4fe72fecb260>\u001b[0m in \u001b[0;36m<module>\u001b[1;34m()\u001b[0m\n\u001b[0;32m     35\u001b[0m \u001b[0mcities\u001b[0m\u001b[1;33m.\u001b[0m\u001b[0mkeys\u001b[0m\u001b[1;33m(\u001b[0m\u001b[1;33m)\u001b[0m\u001b[1;33m\u001b[0m\u001b[0m\n\u001b[0;32m     36\u001b[0m \u001b[1;32mwith\u001b[0m \u001b[0mcon\u001b[0m\u001b[1;33m:\u001b[0m\u001b[1;33m\u001b[0m\u001b[0m\n\u001b[1;32m---> 37\u001b[1;33m     \u001b[0mcur\u001b[0m\u001b[1;33m.\u001b[0m\u001b[0mexecute\u001b[0m\u001b[1;33m(\u001b[0m\u001b[1;34m'CREATE TABLE daily_temp ( day_of_reading INT, \"Atlanta\" REAL, \"Boston\" REAL, \"Chicago\" REAL, \"Denver\" REAL, \"Las Vegas\" REAL, \"Los Angeles\" REAL, \"Miami\" REAL);'\u001b[0m\u001b[1;33m)\u001b[0m\u001b[1;33m\u001b[0m\u001b[0m\n\u001b[0m\u001b[0;32m     38\u001b[0m \u001b[1;33m\u001b[0m\u001b[0m\n\u001b[0;32m     39\u001b[0m \u001b[0mquery_date\u001b[0m \u001b[1;33m=\u001b[0m \u001b[0mend_date\u001b[0m \u001b[1;33m-\u001b[0m \u001b[0mdatetime\u001b[0m\u001b[1;33m.\u001b[0m\u001b[0mtimedelta\u001b[0m\u001b[1;33m(\u001b[0m\u001b[0mdays\u001b[0m\u001b[1;33m=\u001b[0m\u001b[1;36m30\u001b[0m\u001b[1;33m)\u001b[0m\u001b[1;33m\u001b[0m\u001b[0m\n",
        "\u001b[1;31mOperationalError\u001b[0m: table daily_temp already exists"
       ]
      }
     ],
     "prompt_number": 2
    },
    {
     "cell_type": "code",
     "collapsed": false,
     "input": [
      "query_date = end_date - datetime.timedelta(days=30)"
     ],
     "language": "python",
     "metadata": {},
     "outputs": [],
     "prompt_number": 3
    },
    {
     "cell_type": "code",
     "collapsed": false,
     "input": [
      "type(query_date)"
     ],
     "language": "python",
     "metadata": {},
     "outputs": [
      {
       "metadata": {},
       "output_type": "pyout",
       "prompt_number": 5,
       "text": [
        "datetime.datetime"
       ]
      }
     ],
     "prompt_number": 5
    },
    {
     "cell_type": "code",
     "collapsed": false,
     "input": [
      "query_date.strftime('%H:%M:%S')"
     ],
     "language": "python",
     "metadata": {},
     "outputs": [
      {
       "metadata": {},
       "output_type": "pyout",
       "prompt_number": 10,
       "text": [
        "'12:42:47'"
       ]
      }
     ],
     "prompt_number": 10
    },
    {
     "cell_type": "code",
     "collapsed": false,
     "input": [
      "with con:\n",
      "    while query_date < end_date:\n",
      "        print query_date\n",
      "        querystring = \"INSERT INTO daily_temp(day_of_reading) VALUES (?)\"\n",
      "        timestring = query_date.strftime('%s')\n",
      "        cur.execute(querystring, (int(timestring),))\n",
      "        query_date += datetime.timedelta(days=1)"
     ],
     "language": "python",
     "metadata": {},
     "outputs": [
      {
       "output_type": "stream",
       "stream": "stdout",
       "text": [
        "2015-02-13 12:42:47.034000\n"
       ]
      },
      {
       "ename": "ValueError",
       "evalue": "Invalid format string",
       "output_type": "pyerr",
       "traceback": [
        "\u001b[1;31m---------------------------------------------------------------------------\u001b[0m\n\u001b[1;31mValueError\u001b[0m                                Traceback (most recent call last)",
        "\u001b[1;32m<ipython-input-9-86acfc8416c7>\u001b[0m in \u001b[0;36m<module>\u001b[1;34m()\u001b[0m\n\u001b[0;32m      3\u001b[0m         \u001b[1;32mprint\u001b[0m \u001b[0mquery_date\u001b[0m\u001b[1;33m\u001b[0m\u001b[0m\n\u001b[0;32m      4\u001b[0m         \u001b[0mquerystring\u001b[0m \u001b[1;33m=\u001b[0m \u001b[1;34m\"INSERT INTO daily_temp(day_of_reading) VALUES (?)\"\u001b[0m\u001b[1;33m\u001b[0m\u001b[0m\n\u001b[1;32m----> 5\u001b[1;33m         \u001b[0mtimestring\u001b[0m \u001b[1;33m=\u001b[0m \u001b[0mquery_date\u001b[0m\u001b[1;33m.\u001b[0m\u001b[0mstrftime\u001b[0m\u001b[1;33m(\u001b[0m\u001b[1;34m'%s'\u001b[0m\u001b[1;33m)\u001b[0m\u001b[1;33m\u001b[0m\u001b[0m\n\u001b[0m\u001b[0;32m      6\u001b[0m         \u001b[0mcur\u001b[0m\u001b[1;33m.\u001b[0m\u001b[0mexecute\u001b[0m\u001b[1;33m(\u001b[0m\u001b[0mquerystring\u001b[0m\u001b[1;33m,\u001b[0m \u001b[1;33m(\u001b[0m\u001b[0mint\u001b[0m\u001b[1;33m(\u001b[0m\u001b[0mtimestring\u001b[0m\u001b[1;33m)\u001b[0m\u001b[1;33m,\u001b[0m\u001b[1;33m)\u001b[0m\u001b[1;33m)\u001b[0m\u001b[1;33m\u001b[0m\u001b[0m\n\u001b[0;32m      7\u001b[0m         \u001b[0mquery_date\u001b[0m \u001b[1;33m+=\u001b[0m \u001b[0mdatetime\u001b[0m\u001b[1;33m.\u001b[0m\u001b[0mtimedelta\u001b[0m\u001b[1;33m(\u001b[0m\u001b[0mdays\u001b[0m\u001b[1;33m=\u001b[0m\u001b[1;36m1\u001b[0m\u001b[1;33m)\u001b[0m\u001b[1;33m\u001b[0m\u001b[0m\n",
        "\u001b[1;31mValueError\u001b[0m: Invalid format string"
       ]
      }
     ],
     "prompt_number": 9
    },
    {
     "cell_type": "code",
     "collapsed": false,
     "input": [],
     "language": "python",
     "metadata": {},
     "outputs": []
    }
   ],
   "metadata": {}
  }
 ]
}