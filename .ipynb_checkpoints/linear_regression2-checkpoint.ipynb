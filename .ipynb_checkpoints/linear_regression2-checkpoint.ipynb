{
 "metadata": {
  "name": "",
  "signature": "sha256:7dcf5a6b5fc1ece087b0f69b2607b4eb3403a78be289015a2540b16f73fcc16d"
 },
 "nbformat": 3,
 "nbformat_minor": 0,
 "worksheets": [
  {
   "cells": [
    {
     "cell_type": "code",
     "collapsed": false,
     "input": [
      "import pandas as pd"
     ],
     "language": "python",
     "metadata": {},
     "outputs": [],
     "prompt_number": 1
    },
    {
     "cell_type": "code",
     "collapsed": false,
     "input": [
      "loansData = pd.read_csv('https://spark-public.s3.amazonaws.com/dataanalysis/loansData.csv')"
     ],
     "language": "python",
     "metadata": {},
     "outputs": [],
     "prompt_number": 2
    },
    {
     "cell_type": "code",
     "collapsed": false,
     "input": [
      "x = loansData['Interest.Rate'][0:5].values[1]"
     ],
     "language": "python",
     "metadata": {},
     "outputs": [],
     "prompt_number": 3
    },
    {
     "cell_type": "code",
     "collapsed": false,
     "input": [
      "y = lambda x: round(float(x.rstrip('%')) / 100,4)"
     ],
     "language": "python",
     "metadata": {},
     "outputs": [],
     "prompt_number": 4
    },
    {
     "cell_type": "code",
     "collapsed": false,
     "input": [
      "y"
     ],
     "language": "python",
     "metadata": {},
     "outputs": [
      {
       "metadata": {},
       "output_type": "pyout",
       "prompt_number": 5,
       "text": [
        "<function __main__.<lambda>>"
       ]
      }
     ],
     "prompt_number": 5
    },
    {
     "cell_type": "code",
     "collapsed": false,
     "input": [
      "y(x)"
     ],
     "language": "python",
     "metadata": {},
     "outputs": [
      {
       "metadata": {},
       "output_type": "pyout",
       "prompt_number": 6,
       "text": [
        "0.1212"
       ]
      }
     ],
     "prompt_number": 6
    },
    {
     "cell_type": "code",
     "collapsed": false,
     "input": [
      "cleanInterestRate = loansData['Interest.Rate'].map(lambda x: round(float(x.rstrip('%')) /100,4))"
     ],
     "language": "python",
     "metadata": {},
     "outputs": [],
     "prompt_number": 7
    },
    {
     "cell_type": "code",
     "collapsed": false,
     "input": [
      "type(cleanInterestRate)"
     ],
     "language": "python",
     "metadata": {},
     "outputs": [
      {
       "metadata": {},
       "output_type": "pyout",
       "prompt_number": 8,
       "text": [
        "pandas.core.series.Series"
       ]
      }
     ],
     "prompt_number": 8
    },
    {
     "cell_type": "code",
     "collapsed": false,
     "input": [
      "cleanInterestRate[0:5]"
     ],
     "language": "python",
     "metadata": {},
     "outputs": [
      {
       "metadata": {},
       "output_type": "pyout",
       "prompt_number": 9,
       "text": [
        "81174    0.0890\n",
        "99592    0.1212\n",
        "80059    0.2198\n",
        "15825    0.0999\n",
        "33182    0.1171\n",
        "Name: Interest.Rate, dtype: float64"
       ]
      }
     ],
     "prompt_number": 9
    },
    {
     "cell_type": "code",
     "collapsed": false,
     "input": [
      "loansData['Loan.Length'][0:5]"
     ],
     "language": "python",
     "metadata": {},
     "outputs": [
      {
       "metadata": {},
       "output_type": "pyout",
       "prompt_number": 10,
       "text": [
        "81174    36 months\n",
        "99592    36 months\n",
        "80059    60 months\n",
        "15825    36 months\n",
        "33182    36 months\n",
        "Name: Loan.Length, dtype: object"
       ]
      }
     ],
     "prompt_number": 10
    },
    {
     "cell_type": "code",
     "collapsed": false,
     "input": [
      " cleanLoanLength = loansData['Loan.Length'].map(lambda x: int(x.rstrip(' months')))"
     ],
     "language": "python",
     "metadata": {},
     "outputs": [],
     "prompt_number": 12
    },
    {
     "cell_type": "code",
     "collapsed": false,
     "input": [
      "cleanLoanLength[0:5]"
     ],
     "language": "python",
     "metadata": {},
     "outputs": [
      {
       "metadata": {},
       "output_type": "pyout",
       "prompt_number": 13,
       "text": [
        "81174    36\n",
        "99592    36\n",
        "80059    60\n",
        "15825    36\n",
        "33182    36\n",
        "Name: Loan.Length, dtype: int64"
       ]
      }
     ],
     "prompt_number": 13
    },
    {
     "cell_type": "code",
     "collapsed": false,
     "input": [
      "loansData['Loan.Length'] = cleanLoanLength"
     ],
     "language": "python",
     "metadata": {},
     "outputs": [],
     "prompt_number": 16
    },
    {
     "cell_type": "code",
     "collapsed": false,
     "input": [
      "loansData['Loan.Length'][0:5]"
     ],
     "language": "python",
     "metadata": {},
     "outputs": [
      {
       "metadata": {},
       "output_type": "pyout",
       "prompt_number": 17,
       "text": [
        "81174    36\n",
        "99592    36\n",
        "80059    60\n",
        "15825    36\n",
        "33182    36\n",
        "Name: Loan.Length, dtype: int64"
       ]
      }
     ],
     "prompt_number": 17
    },
    {
     "cell_type": "code",
     "collapsed": false,
     "input": [
      "loansData['FICO.Range'][0:5]"
     ],
     "language": "python",
     "metadata": {},
     "outputs": [
      {
       "metadata": {},
       "output_type": "pyout",
       "prompt_number": 18,
       "text": [
        "81174    735-739\n",
        "99592    715-719\n",
        "80059    690-694\n",
        "15825    695-699\n",
        "33182    695-699\n",
        "Name: FICO.Range, dtype: object"
       ]
      }
     ],
     "prompt_number": 18
    },
    {
     "cell_type": "code",
     "collapsed": false,
     "input": [
      "cleanFICORange = loansData['FICO.Range'].map(lambda x: x.split('-')[0])"
     ],
     "language": "python",
     "metadata": {},
     "outputs": [],
     "prompt_number": 19
    },
    {
     "cell_type": "code",
     "collapsed": false,
     "input": [
      "cleanFICORange[0:5]"
     ],
     "language": "python",
     "metadata": {},
     "outputs": [
      {
       "metadata": {},
       "output_type": "pyout",
       "prompt_number": 20,
       "text": [
        "81174    735\n",
        "99592    715\n",
        "80059    690\n",
        "15825    695\n",
        "33182    695\n",
        "Name: FICO.Range, dtype: object"
       ]
      }
     ],
     "prompt_number": 20
    },
    {
     "cell_type": "code",
     "collapsed": false,
     "input": [
      "import matplotlib.pyplot as plt"
     ],
     "language": "python",
     "metadata": {},
     "outputs": [],
     "prompt_number": 21
    },
    {
     "cell_type": "code",
     "collapsed": false,
     "input": [
      "plt.figure()"
     ],
     "language": "python",
     "metadata": {},
     "outputs": [
      {
       "metadata": {},
       "output_type": "pyout",
       "prompt_number": 22,
       "text": [
        "<matplotlib.figure.Figure at 0xbbf2a58>"
       ]
      }
     ],
     "prompt_number": 22
    },
    {
     "cell_type": "code",
     "collapsed": false,
     "input": [
      "loansData.columns.values"
     ],
     "language": "python",
     "metadata": {},
     "outputs": [
      {
       "metadata": {},
       "output_type": "pyout",
       "prompt_number": 23,
       "text": [
        "array(['Amount.Requested', 'Amount.Funded.By.Investors', 'Interest.Rate',\n",
        "       'Loan.Length', 'Loan.Purpose', 'Debt.To.Income.Ratio', 'State',\n",
        "       'Home.Ownership', 'Monthly.Income', 'FICO.Range',\n",
        "       'Open.CREDIT.Lines', 'Revolving.CREDIT.Balance',\n",
        "       'Inquiries.in.the.Last.6.Months', 'Employment.Length'], dtype=object)"
       ]
      }
     ],
     "prompt_number": 23
    },
    {
     "cell_type": "code",
     "collapsed": false,
     "input": [
      "loansData['FICO.Score'] = cleanFICORange"
     ],
     "language": "python",
     "metadata": {},
     "outputs": [],
     "prompt_number": 24
    },
    {
     "cell_type": "code",
     "collapsed": false,
     "input": [
      "loansData['FICO.Range']"
     ],
     "language": "python",
     "metadata": {},
     "outputs": [
      {
       "metadata": {},
       "output_type": "pyout",
       "prompt_number": 22,
       "text": [
        "81174    735-739\n",
        "99592    715-719\n",
        "80059    690-694\n",
        "15825    695-699\n",
        "33182    695-699\n",
        "62403    670-674\n",
        "48808    720-724\n",
        "22090    705-709\n",
        "76404    685-689\n",
        "15867    715-719\n",
        "94971    670-674\n",
        "36911    665-669\n",
        "41200    670-674\n",
        "83869    735-739\n",
        "53853    725-729\n",
        "...\n",
        "13070    765-769\n",
        "45836    665-669\n",
        "52330    660-664\n",
        "48243    685-689\n",
        "63256    670-674\n",
        "42124    710-714\n",
        "78043    720-724\n",
        "925      710-714\n",
        "74047    675-679\n",
        "49957    685-689\n",
        "23735    705-709\n",
        "65882    740-744\n",
        "55610    680-684\n",
        "38576    675-679\n",
        "3116     670-674\n",
        "Name: FICO.Range, Length: 2500, dtype: object"
       ]
      }
     ],
     "prompt_number": 22
    },
    {
     "cell_type": "code",
     "collapsed": false,
     "input": [
      "loansData['FICO.Score']"
     ],
     "language": "python",
     "metadata": {},
     "outputs": [
      {
       "metadata": {},
       "output_type": "pyout",
       "prompt_number": 25,
       "text": [
        "81174    735\n",
        "99592    715\n",
        "80059    690\n",
        "15825    695\n",
        "33182    695\n",
        "62403    670\n",
        "48808    720\n",
        "22090    705\n",
        "76404    685\n",
        "15867    715\n",
        "94971    670\n",
        "36911    665\n",
        "41200    670\n",
        "83869    735\n",
        "53853    725\n",
        "...\n",
        "13070    765\n",
        "45836    665\n",
        "52330    660\n",
        "48243    685\n",
        "63256    670\n",
        "42124    710\n",
        "78043    720\n",
        "925      710\n",
        "74047    675\n",
        "49957    685\n",
        "23735    705\n",
        "65882    740\n",
        "55610    680\n",
        "38576    675\n",
        "3116     670\n",
        "Name: FICO.Score, Length: 2500, dtype: object"
       ]
      }
     ],
     "prompt_number": 25
    },
    {
     "cell_type": "code",
     "collapsed": false,
     "input": [
      "loansData['FICO.Score'].apply(float)"
     ],
     "language": "python",
     "metadata": {},
     "outputs": [
      {
       "metadata": {},
       "output_type": "pyout",
       "prompt_number": 26,
       "text": [
        "81174    735\n",
        "99592    715\n",
        "80059    690\n",
        "15825    695\n",
        "33182    695\n",
        "62403    670\n",
        "48808    720\n",
        "22090    705\n",
        "76404    685\n",
        "15867    715\n",
        "94971    670\n",
        "36911    665\n",
        "41200    670\n",
        "83869    735\n",
        "53853    725\n",
        "...\n",
        "13070    765\n",
        "45836    665\n",
        "52330    660\n",
        "48243    685\n",
        "63256    670\n",
        "42124    710\n",
        "78043    720\n",
        "925      710\n",
        "74047    675\n",
        "49957    685\n",
        "23735    705\n",
        "65882    740\n",
        "55610    680\n",
        "38576    675\n",
        "3116     670\n",
        "Name: FICO.Score, Length: 2500, dtype: float64"
       ]
      }
     ],
     "prompt_number": 26
    },
    {
     "cell_type": "code",
     "collapsed": false,
     "input": [
      "loansData['FICO.Score']"
     ],
     "language": "python",
     "metadata": {},
     "outputs": [
      {
       "metadata": {},
       "output_type": "pyout",
       "prompt_number": 27,
       "text": [
        "81174    735\n",
        "99592    715\n",
        "80059    690\n",
        "15825    695\n",
        "33182    695\n",
        "62403    670\n",
        "48808    720\n",
        "22090    705\n",
        "76404    685\n",
        "15867    715\n",
        "94971    670\n",
        "36911    665\n",
        "41200    670\n",
        "83869    735\n",
        "53853    725\n",
        "...\n",
        "13070    765\n",
        "45836    665\n",
        "52330    660\n",
        "48243    685\n",
        "63256    670\n",
        "42124    710\n",
        "78043    720\n",
        "925      710\n",
        "74047    675\n",
        "49957    685\n",
        "23735    705\n",
        "65882    740\n",
        "55610    680\n",
        "38576    675\n",
        "3116     670\n",
        "Name: FICO.Score, Length: 2500, dtype: object"
       ]
      }
     ],
     "prompt_number": 27
    },
    {
     "cell_type": "code",
     "collapsed": false,
     "input": [
      "loansData['FICO.Score'] = loansData['FICO.Score'].apply(float)"
     ],
     "language": "python",
     "metadata": {},
     "outputs": [],
     "prompt_number": 28
    },
    {
     "cell_type": "code",
     "collapsed": false,
     "input": [
      "p = loansData['FICO.Score'].hist()"
     ],
     "language": "python",
     "metadata": {},
     "outputs": [],
     "prompt_number": 29
    },
    {
     "cell_type": "code",
     "collapsed": false,
     "input": [
      "plt.show()"
     ],
     "language": "python",
     "metadata": {},
     "outputs": [],
     "prompt_number": 30
    },
    {
     "cell_type": "code",
     "collapsed": false,
     "input": [
      "a = pd.scatter_matrix(loansData, alpha=0.05, figsize=(10,10))"
     ],
     "language": "python",
     "metadata": {},
     "outputs": [],
     "prompt_number": 31
    },
    {
     "cell_type": "code",
     "collapsed": false,
     "input": [
      "plt.show()"
     ],
     "language": "python",
     "metadata": {},
     "outputs": [],
     "prompt_number": 32
    },
    {
     "cell_type": "code",
     "collapsed": false,
     "input": [
      "exit()"
     ],
     "language": "python",
     "metadata": {},
     "outputs": [],
     "prompt_number": 33
    },
    {
     "cell_type": "code",
     "collapsed": false,
     "input": [],
     "language": "python",
     "metadata": {},
     "outputs": []
    }
   ],
   "metadata": {}
  }
 ]
}