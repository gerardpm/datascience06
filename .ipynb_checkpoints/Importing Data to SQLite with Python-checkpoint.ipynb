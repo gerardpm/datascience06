{
 "metadata": {
  "name": "",
  "signature": "sha256:55317cbb42174d41d819cd4dc0c816aee0de59d50bb93b595c87c11734065920"
 },
 "nbformat": 3,
 "nbformat_minor": 0,
 "worksheets": []
}