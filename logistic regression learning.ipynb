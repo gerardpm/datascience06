{
 "metadata": {
  "name": "",
  "signature": "sha256:29a3adfbfb59128b1eaf0858aaac54bd331e4a4208782d3f988117f284e363f2"
 },
 "nbformat": 3,
 "nbformat_minor": 0,
 "worksheets": [
  {
   "cells": [
    {
     "cell_type": "code",
     "collapsed": false,
     "input": [
      "import pandas as pd"
     ],
     "language": "python",
     "metadata": {},
     "outputs": [],
     "prompt_number": 130
    },
    {
     "cell_type": "code",
     "collapsed": false,
     "input": [
      "loansData = pd.read_csv('https://spark-public.s3.amazonaws.com/dataanalysis/loansData.csv')"
     ],
     "language": "python",
     "metadata": {},
     "outputs": [],
     "prompt_number": 131
    },
    {
     "cell_type": "code",
     "collapsed": false,
     "input": [
      "x = loansData['Interest.Rate'][0:5].values[1]"
     ],
     "language": "python",
     "metadata": {},
     "outputs": [],
     "prompt_number": 132
    },
    {
     "cell_type": "code",
     "collapsed": false,
     "input": [
      "y = lambda x: round(float(x.rstrip('%')) / 100,4)"
     ],
     "language": "python",
     "metadata": {},
     "outputs": [],
     "prompt_number": 133
    },
    {
     "cell_type": "code",
     "collapsed": false,
     "input": [
      "y"
     ],
     "language": "python",
     "metadata": {},
     "outputs": [
      {
       "metadata": {},
       "output_type": "pyout",
       "prompt_number": 134,
       "text": [
        "<function __main__.<lambda>>"
       ]
      }
     ],
     "prompt_number": 134
    },
    {
     "cell_type": "code",
     "collapsed": false,
     "input": [
      "y(x)"
     ],
     "language": "python",
     "metadata": {},
     "outputs": [
      {
       "metadata": {},
       "output_type": "pyout",
       "prompt_number": 135,
       "text": [
        "0.1212"
       ]
      }
     ],
     "prompt_number": 135
    },
    {
     "cell_type": "code",
     "collapsed": false,
     "input": [
      "loansData['Loan.Length'][0:5]"
     ],
     "language": "python",
     "metadata": {},
     "outputs": [
      {
       "metadata": {},
       "output_type": "pyout",
       "prompt_number": 99,
       "text": [
        "81174    36\n",
        "99592    36\n",
        "80059    60\n",
        "15825    36\n",
        "33182    36\n",
        "Name: Loan.Length, dtype: int64"
       ]
      }
     ],
     "prompt_number": 99
    },
    {
     "cell_type": "code",
     "collapsed": false,
     "input": [
      "loansData['FICO.Range'] = loansData['FICO.Range'].map(lambda x: x.split('-')[0])"
     ],
     "language": "python",
     "metadata": {},
     "outputs": [],
     "prompt_number": 100
    },
    {
     "cell_type": "code",
     "collapsed": false,
     "input": [
      "loansData['FICO.Range'][0:5]"
     ],
     "language": "python",
     "metadata": {},
     "outputs": [
      {
       "metadata": {},
       "output_type": "pyout",
       "prompt_number": 101,
       "text": [
        "81174    735\n",
        "99592    715\n",
        "80059    690\n",
        "15825    695\n",
        "33182    695\n",
        "Name: FICO.Range, dtype: object"
       ]
      }
     ],
     "prompt_number": 101
    },
    {
     "cell_type": "code",
     "collapsed": false,
     "input": [
      "loansData['FICO.Score'] = loansData['FICO.Range']"
     ],
     "language": "python",
     "metadata": {},
     "outputs": [],
     "prompt_number": 103
    },
    {
     "cell_type": "code",
     "collapsed": false,
     "input": [
      "loansData['FICO.Range'][0:5]"
     ],
     "language": "python",
     "metadata": {},
     "outputs": [
      {
       "metadata": {},
       "output_type": "pyout",
       "prompt_number": 108,
       "text": [
        "81174    735\n",
        "99592    715\n",
        "80059    690\n",
        "15825    695\n",
        "33182    695\n",
        "Name: FICO.Range, dtype: object"
       ]
      }
     ],
     "prompt_number": 108
    },
    {
     "cell_type": "code",
     "collapsed": false,
     "input": [
      "loansData['FICO.Score'][0:5]"
     ],
     "language": "python",
     "metadata": {},
     "outputs": [
      {
       "metadata": {},
       "output_type": "pyout",
       "prompt_number": 109,
       "text": [
        "81174    735\n",
        "99592    715\n",
        "80059    690\n",
        "15825    695\n",
        "33182    695\n",
        "Name: FICO.Score, dtype: float64"
       ]
      }
     ],
     "prompt_number": 109
    },
    {
     "cell_type": "code",
     "collapsed": false,
     "input": [
      "loansData['FICO.Score']= loansData['FICO.Score'].apply(float)"
     ],
     "language": "python",
     "metadata": {},
     "outputs": [],
     "prompt_number": 106
    },
    {
     "cell_type": "code",
     "collapsed": false,
     "input": [
      "loansData['FICO.Score'][0:5]"
     ],
     "language": "python",
     "metadata": {},
     "outputs": [
      {
       "metadata": {},
       "output_type": "pyout",
       "prompt_number": 110,
       "text": [
        "81174    735\n",
        "99592    715\n",
        "80059    690\n",
        "15825    695\n",
        "33182    695\n",
        "Name: FICO.Score, dtype: float64"
       ]
      }
     ],
     "prompt_number": 110
    },
    {
     "cell_type": "code",
     "collapsed": false,
     "input": [
      "loansData['Interest.Rate'][0:5]"
     ],
     "language": "python",
     "metadata": {},
     "outputs": [
      {
       "metadata": {},
       "output_type": "pyout",
       "prompt_number": 111,
       "text": [
        "81174     8.90%\n",
        "99592    12.12%\n",
        "80059    21.98%\n",
        "15825     9.99%\n",
        "33182    11.71%\n",
        "Name: Interest.Rate, dtype: object"
       ]
      }
     ],
     "prompt_number": 111
    },
    {
     "cell_type": "code",
     "collapsed": false,
     "input": [
      "import numpy as np"
     ],
     "language": "python",
     "metadata": {},
     "outputs": [],
     "prompt_number": 116
    },
    {
     "cell_type": "code",
     "collapsed": false,
     "input": [
      "import pandas as pd"
     ],
     "language": "python",
     "metadata": {},
     "outputs": [],
     "prompt_number": 117
    },
    {
     "cell_type": "code",
     "collapsed": false,
     "input": [
      "import statsmodels.api as sm"
     ],
     "language": "python",
     "metadata": {},
     "outputs": [],
     "prompt_number": 118
    },
    {
     "cell_type": "code",
     "collapsed": false,
     "input": [
      "intrate[0:5]"
     ],
     "language": "python",
     "metadata": {},
     "outputs": [
      {
       "metadata": {},
       "output_type": "pyout",
       "prompt_number": 119,
       "text": [
        "81174    0.0890\n",
        "99592    0.1212\n",
        "80059    0.2198\n",
        "15825    0.0999\n",
        "33182    0.1171\n",
        "Name: Interest.Rate, dtype: float64"
       ]
      }
     ],
     "prompt_number": 119
    },
    {
     "cell_type": "code",
     "collapsed": false,
     "input": [
      "loanamt = loansData['Amount.Requested']"
     ],
     "language": "python",
     "metadata": {},
     "outputs": [],
     "prompt_number": 73
    },
    {
     "cell_type": "code",
     "collapsed": false,
     "input": [
      "fico = loansData['FICO.Score']"
     ],
     "language": "python",
     "metadata": {},
     "outputs": [],
     "prompt_number": 112
    },
    {
     "cell_type": "code",
     "collapsed": false,
     "input": [
      "y = np.matrix(intrate).transpose()"
     ],
     "language": "python",
     "metadata": {},
     "outputs": [],
     "prompt_number": 36
    },
    {
     "cell_type": "code",
     "collapsed": false,
     "input": [
      "x1 = np.matrix(fico).transpose()"
     ],
     "language": "python",
     "metadata": {},
     "outputs": [],
     "prompt_number": 37
    },
    {
     "cell_type": "code",
     "collapsed": false,
     "input": [
      "x2 = np.matrix(loanamt).transpose()"
     ],
     "language": "python",
     "metadata": {},
     "outputs": [],
     "prompt_number": 38
    },
    {
     "cell_type": "code",
     "collapsed": false,
     "input": [
      "x = np.column_stack([x1,x2])"
     ],
     "language": "python",
     "metadata": {},
     "outputs": [],
     "prompt_number": 39
    },
    {
     "cell_type": "code",
     "collapsed": false,
     "input": [
      "x = sm.add_constant(x)"
     ],
     "language": "python",
     "metadata": {},
     "outputs": [],
     "prompt_number": 40
    },
    {
     "cell_type": "code",
     "collapsed": false,
     "input": [
      "model = sm.OLS(y,x)"
     ],
     "language": "python",
     "metadata": {},
     "outputs": [],
     "prompt_number": 41
    },
    {
     "cell_type": "code",
     "collapsed": false,
     "input": [
      "f = model.fit()"
     ],
     "language": "python",
     "metadata": {},
     "outputs": [],
     "prompt_number": 42
    },
    {
     "cell_type": "code",
     "collapsed": false,
     "input": [
      "print 'Coefficient: ',f.params[0:2]\n",
      "print 'Intercept: ', f.params[2]\n",
      "print 'P-Values: ', f.pvalues\n",
      "print 'R-Squared: ', f.rsquared"
     ],
     "language": "python",
     "metadata": {},
     "outputs": [
      {
       "output_type": "stream",
       "stream": "stdout",
       "text": [
        "Coefficient:  [ 0.72882798 -0.00088442]\n",
        "Intercept:  2.10747768548e-06\n",
        "P-Values:  [  0.00000000e+000   0.00000000e+000   5.96972978e-203]\n",
        "R-Squared:  0.656632624649\n"
       ]
      }
     ],
     "prompt_number": 43
    },
    {
     "cell_type": "code",
     "collapsed": false,
     "input": [
      "# P-values of model = P-Values are extremely small hence no statistical\n",
      "#signifcance; R2 = .66 and is below benchmark of .80 "
     ],
     "language": "python",
     "metadata": {},
     "outputs": [],
     "prompt_number": 44
    },
    {
     "cell_type": "code",
     "collapsed": false,
     "input": [
      "loansData.to_csv('loansData_clean.csv', header=True, index=False)"
     ],
     "language": "python",
     "metadata": {},
     "outputs": [],
     "prompt_number": 10
    },
    {
     "cell_type": "code",
     "collapsed": false,
     "input": [
      "import pandas as pd"
     ],
     "language": "python",
     "metadata": {},
     "outputs": [],
     "prompt_number": 2
    },
    {
     "cell_type": "code",
     "collapsed": false,
     "input": [
      "import statsmodels as stats"
     ],
     "language": "python",
     "metadata": {},
     "outputs": [],
     "prompt_number": 3
    },
    {
     "cell_type": "code",
     "collapsed": false,
     "input": [
      "loansData.to_csv('loansData_clean.csv', header=True, index=False)"
     ],
     "language": "python",
     "metadata": {},
     "outputs": [],
     "prompt_number": 11
    },
    {
     "cell_type": "code",
     "collapsed": false,
     "input": [
      "print loansData"
     ],
     "language": "python",
     "metadata": {},
     "outputs": [
      {
       "output_type": "stream",
       "stream": "stdout",
       "text": [
        "        Amount.Requested  Amount.Funded.By.Investors Interest.Rate  \\\n",
        "81174              20000                    20000.00         8.90%   \n",
        "99592              19200                    19200.00        12.12%   \n",
        "80059              35000                    35000.00        21.98%   \n",
        "15825              10000                     9975.00         9.99%   \n",
        "33182              12000                    12000.00        11.71%   \n",
        "62403               6000                     6000.00        15.31%   \n",
        "48808              10000                    10000.00         7.90%   \n",
        "22090              33500                    33450.00        17.14%   \n",
        "76404              14675                    14675.00        14.33%   \n",
        "15867               7000                     7000.00         6.91%   \n",
        "94971               2000                     2000.00        19.72%   \n",
        "36911              10625                    10625.00        14.27%   \n",
        "41200              28000                    27975.00        21.67%   \n",
        "83869              35000                    34950.00         8.90%   \n",
        "53853               9600                     9600.00         7.62%   \n",
        "21399              25000                    24975.00        15.65%   \n",
        "62127              10000                    10000.00        12.12%   \n",
        "23446              14000                    13900.25        10.37%   \n",
        "44987              10000                    10000.00         9.76%   \n",
        "17977               5200                     5175.00         9.99%   \n",
        "86099              22000                    21975.00        21.98%   \n",
        "99483              30000                    30000.00        19.05%   \n",
        "28798               6500                     6500.00        17.99%   \n",
        "24168              17400                    17400.00        11.99%   \n",
        "10356               4000                     4000.00        16.82%   \n",
        "46027               7200                     7200.00         7.90%   \n",
        "2238                8000                     8000.00        14.42%   \n",
        "65278               8000                     8000.00        15.31%   \n",
        "4227                3000                     3000.00         8.59%   \n",
        "50182              14500                    14500.00         7.90%   \n",
        "...                  ...                         ...           ...   \n",
        "84265              20000                    20000.00        22.95%   \n",
        "80231              19000                    19000.00         7.90%   \n",
        "49533              17300                    17250.00        22.45%   \n",
        "102514              7000                      711.54        15.13%   \n",
        "78618               7200                     7200.00        18.75%   \n",
        "86953              10000                    10000.00        14.09%   \n",
        "80129               4000                     3925.00        14.09%   \n",
        "85216              17500                    17500.00         8.90%   \n",
        "38247              20000                    20000.00        11.71%   \n",
        "91245              16200                    16200.00        15.80%   \n",
        "53041              10000                    10000.00         6.03%   \n",
        "63051              27000                    27000.00         6.62%   \n",
        "14446               4500                     4475.00         7.51%   \n",
        "68628              15875                    15875.00        14.33%   \n",
        "98758              15000                    15000.00        10.16%   \n",
        "13070              25000                    24950.00        10.75%   \n",
        "45836               7000                     7000.00        17.27%   \n",
        "52330              15000                    15000.00        19.99%   \n",
        "48243              17000                    17000.00        15.81%   \n",
        "63256              19075                    19075.00        18.75%   \n",
        "42124              10000                    10000.00        11.71%   \n",
        "78043               8475                     8475.00         7.62%   \n",
        "925                 6400                     6350.00        10.08%   \n",
        "74047              30000                    30000.00        23.28%   \n",
        "49957              24000                    23975.00        14.65%   \n",
        "23735              30000                    29950.00        16.77%   \n",
        "65882              16000                    16000.00        14.09%   \n",
        "55610              10000                    10000.00        13.99%   \n",
        "38576               6000                     6000.00        12.42%   \n",
        "3116                9000                     5242.75        13.79%   \n",
        "\n",
        "       Loan.Length        Loan.Purpose Debt.To.Income.Ratio State  \\\n",
        "81174    36 months  debt_consolidation               14.90%    SC   \n",
        "99592    36 months  debt_consolidation               28.36%    TX   \n",
        "80059    60 months  debt_consolidation               23.81%    CA   \n",
        "15825    36 months  debt_consolidation               14.30%    KS   \n",
        "33182    36 months         credit_card               18.78%    NJ   \n",
        "62403    36 months               other               20.05%    CT   \n",
        "48808    36 months  debt_consolidation               26.09%    MA   \n",
        "22090    60 months         credit_card               14.70%    LA   \n",
        "76404    36 months         credit_card               26.92%    CA   \n",
        "15867    36 months         credit_card                7.10%    CA   \n",
        "94971    36 months              moving               10.29%    FL   \n",
        "36911    36 months  debt_consolidation               12.54%    CA   \n",
        "41200    60 months  debt_consolidation               13.07%    CT   \n",
        "83869    36 months  debt_consolidation               20.46%    CT   \n",
        "53853    36 months  debt_consolidation                3.45%    DC   \n",
        "21399    60 months  debt_consolidation               21.99%    CA   \n",
        "62127    36 months  debt_consolidation               17.72%    CA   \n",
        "23446    60 months  debt_consolidation               11.95%    OH   \n",
        "44987    36 months         credit_card                7.13%    FL   \n",
        "17977    60 months  debt_consolidation               10.29%    AL   \n",
        "86099    36 months  debt_consolidation               11.19%    TX   \n",
        "99483    60 months         credit_card               21.25%    FL   \n",
        "28798    60 months                 car               19.63%    FL   \n",
        "24168    36 months         credit_card               12.47%    AZ   \n",
        "10356    60 months            vacation               13.71%    GA   \n",
        "46027    36 months  debt_consolidation               24.82%    TX   \n",
        "2238     36 months  debt_consolidation               24.63%    MA   \n",
        "65278    36 months  debt_consolidation               15.46%    CA   \n",
        "4227     36 months               other                3.72%    MA   \n",
        "50182    36 months  debt_consolidation                4.85%    GA   \n",
        "...            ...                 ...                  ...   ...   \n",
        "84265    60 months  debt_consolidation                7.10%    NJ   \n",
        "80231    36 months  debt_consolidation                9.76%    RI   \n",
        "49533    60 months             wedding                3.58%    PA   \n",
        "102514   36 months      major_purchase               18.91%    CO   \n",
        "78618    36 months  debt_consolidation               16.21%    MI   \n",
        "86953    36 months      major_purchase                9.71%    CO   \n",
        "80129    36 months         credit_card               12.27%    FL   \n",
        "85216    36 months  debt_consolidation               10.94%    UT   \n",
        "38247    36 months         credit_card                9.58%    SD   \n",
        "91245    60 months  debt_consolidation                7.92%    PA   \n",
        "53041    36 months      small_business               13.03%    FL   \n",
        "63051    36 months  debt_consolidation               12.21%    OH   \n",
        "14446    36 months      small_business               20.27%    VA   \n",
        "68628    36 months      small_business               17.44%    MD   \n",
        "98758    36 months         credit_card               28.28%    OH   \n",
        "13070    36 months  debt_consolidation               20.48%    OR   \n",
        "45836    36 months               other               18.38%    NY   \n",
        "52330    36 months             wedding               18.05%    CA   \n",
        "48243    36 months  debt_consolidation               17.01%    CO   \n",
        "63256    36 months  debt_consolidation               15.23%    NY   \n",
        "42124    36 months  debt_consolidation                8.40%    CA   \n",
        "78043    36 months  debt_consolidation               15.88%    CA   \n",
        "925      36 months  debt_consolidation                8.11%    NJ   \n",
        "74047    60 months               other               12.10%    IL   \n",
        "49957    36 months  debt_consolidation               15.29%    WA   \n",
        "23735    60 months  debt_consolidation               19.23%    NY   \n",
        "65882    60 months    home_improvement               21.54%    MD   \n",
        "55610    36 months  debt_consolidation                4.89%    PA   \n",
        "38576    36 months      major_purchase               16.66%    NJ   \n",
        "3116     36 months  debt_consolidation                6.76%    NY   \n",
        "\n",
        "       Home.Ownership  Monthly.Income FICO.Range  Open.CREDIT.Lines  \\\n",
        "81174        MORTGAGE         6541.67    735-739                 14   \n",
        "99592        MORTGAGE         4583.33    715-719                 12   \n",
        "80059        MORTGAGE        11500.00    690-694                 14   \n",
        "15825        MORTGAGE         3833.33    695-699                 10   \n",
        "33182            RENT         3195.00    695-699                 11   \n",
        "62403             OWN         4891.67    670-674                 17   \n",
        "48808            RENT         2916.67    720-724                 10   \n",
        "22090        MORTGAGE        13863.42    705-709                 12   \n",
        "76404            RENT         3150.00    685-689                  9   \n",
        "15867            RENT         5000.00    715-719                  8   \n",
        "94971            RENT         3575.00    670-674                 10   \n",
        "36911        MORTGAGE         4250.00    665-669                 14   \n",
        "41200        MORTGAGE        14166.67    670-674                 12   \n",
        "83869            RENT         9166.67    735-739                 19   \n",
        "53853            RENT        11250.00    725-729                 13   \n",
        "21399            RENT         5416.67    730-734                  6   \n",
        "62127            RENT         9000.00    695-699                 18   \n",
        "23446            RENT         4333.33    740-744                  6   \n",
        "44987            RENT         2733.33    730-734                  7   \n",
        "17977        MORTGAGE         3750.00    760-764                 10   \n",
        "86099        MORTGAGE         6666.67    665-669                  9   \n",
        "99483        MORTGAGE         6250.00    695-699                 12   \n",
        "28798            RENT         4100.00    665-669                 11   \n",
        "24168            RENT         6833.33    695-699                  7   \n",
        "10356        MORTGAGE         4500.00    670-674                  5   \n",
        "46027            RENT         5416.67    705-709                  8   \n",
        "2238             RENT         2964.17    675-679                  9   \n",
        "65278        MORTGAGE         2916.67    675-679                 13   \n",
        "4227         MORTGAGE         4167.00    765-769                  4   \n",
        "50182        MORTGAGE         3958.33    760-764                  4   \n",
        "...               ...             ...        ...                ...   \n",
        "84265            RENT         6750.00    665-669                  6   \n",
        "80231        MORTGAGE         5166.67    770-774                 18   \n",
        "49533        MORTGAGE         5500.00    685-689                 11   \n",
        "102514       MORTGAGE         3833.00    650-654                 13   \n",
        "78618            RENT         8333.33    660-664                  8   \n",
        "86953            RENT         4583.33    675-679                  6   \n",
        "80129        MORTGAGE         8583.33    675-679                  9   \n",
        "85216        MORTGAGE        25000.00    730-734                  9   \n",
        "38247        MORTGAGE         5416.67    725-729                 12   \n",
        "91245        MORTGAGE         4833.33    680-684                 12   \n",
        "53041            RENT         5000.00    760-764                  8   \n",
        "63051        MORTGAGE         9250.00    810-814                 12   \n",
        "14446        MORTGAGE         7075.50    720-724                 15   \n",
        "68628        MORTGAGE         3416.67    675-679                 11   \n",
        "98758        MORTGAGE         6666.67    690-694                 15   \n",
        "13070        MORTGAGE         7083.33    765-769                 10   \n",
        "45836             OWN         2464.37    665-669                  9   \n",
        "52330            RENT         8000.00    660-664                  6   \n",
        "48243            RENT         3833.33    685-689                  6   \n",
        "63256            RENT         5166.67    670-674                 17   \n",
        "42124            RENT         4500.00    710-714                  8   \n",
        "78043            RENT         3983.33    720-724                  9   \n",
        "925          MORTGAGE         5166.67    710-714                  5   \n",
        "74047        MORTGAGE         7083.33    675-679                 16   \n",
        "49957        MORTGAGE         6666.67    685-689                 13   \n",
        "23735        MORTGAGE         9250.00    705-709                 15   \n",
        "65882             OWN         8903.25    740-744                 18   \n",
        "55610        MORTGAGE         2166.67    680-684                  4   \n",
        "38576            RENT         3500.00    675-679                  8   \n",
        "3116             RENT         3875.00    670-674                  7   \n",
        "\n",
        "        Revolving.CREDIT.Balance  Inquiries.in.the.Last.6.Months  \\\n",
        "81174                      14272                               2   \n",
        "99592                      11140                               1   \n",
        "80059                      21977                               1   \n",
        "15825                       9346                               0   \n",
        "33182                      14469                               0   \n",
        "62403                      10391                               2   \n",
        "48808                      15957                               0   \n",
        "22090                      27874                               0   \n",
        "76404                       7246                               1   \n",
        "15867                       7612                               0   \n",
        "94971                      12036                               0   \n",
        "36911                      10767                               0   \n",
        "41200                      10311                               0   \n",
        "83869                      21536                               0   \n",
        "53853                       4606                               0   \n",
        "21399                      13929                               0   \n",
        "62127                      20317                               0   \n",
        "23446                       7419                               0   \n",
        "44987                       6112                               2   \n",
        "17977                      16094                               0   \n",
        "86099                      23124                               0   \n",
        "99483                      34927                               0   \n",
        "28798                      11697                               1   \n",
        "24168                      26587                               0   \n",
        "10356                      20804                               0   \n",
        "46027                      12017                               0   \n",
        "2238                        8928                               2   \n",
        "65278                       7152                               1   \n",
        "4227                        7074                               0   \n",
        "50182                       9598                               0   \n",
        "...                          ...                             ...   \n",
        "84265                      16104                               1   \n",
        "80231                      43617                               2   \n",
        "49533                       2306                               3   \n",
        "102514                     12634                               0   \n",
        "78618                      28916                               0   \n",
        "86953                       3859                               0   \n",
        "80129                      36943                               1   \n",
        "85216                      34545                               0   \n",
        "38247                      18267                               1   \n",
        "91245                      12313                               2   \n",
        "53041                       3952                               0   \n",
        "63051                       4211                               0   \n",
        "14446                      68618                               2   \n",
        "68628                      15891                               0   \n",
        "98758                      14880                               0   \n",
        "13070                      25429                               0   \n",
        "45836                       7089                               0   \n",
        "52330                      45976                               1   \n",
        "48243                      15484                               1   \n",
        "63256                      13749                               3   \n",
        "42124                       8404                               1   \n",
        "78043                       6882                               0   \n",
        "925                         5815                               2   \n",
        "74047                      17969                               1   \n",
        "49957                      17521                               0   \n",
        "23735                      45880                               1   \n",
        "65882                      18898                               1   \n",
        "55610                       4544                               0   \n",
        "38576                       7753                               0   \n",
        "3116                        7589                               0   \n",
        "\n",
        "       Employment.Length  \n",
        "81174           < 1 year  \n",
        "99592            2 years  \n",
        "80059            2 years  \n",
        "15825            5 years  \n",
        "33182            9 years  \n",
        "62403            3 years  \n",
        "48808          10+ years  \n",
        "22090          10+ years  \n",
        "76404            8 years  \n",
        "15867            3 years  \n",
        "94971            6 years  \n",
        "36911           < 1 year  \n",
        "41200             1 year  \n",
        "83869             1 year  \n",
        "53853           < 1 year  \n",
        "21399            9 years  \n",
        "62127            7 years  \n",
        "23446            9 years  \n",
        "44987            3 years  \n",
        "17977           < 1 year  \n",
        "86099          10+ years  \n",
        "99483            6 years  \n",
        "28798            2 years  \n",
        "24168            7 years  \n",
        "10356            3 years  \n",
        "46027            7 years  \n",
        "2238             6 years  \n",
        "65278            5 years  \n",
        "4227             5 years  \n",
        "50182            4 years  \n",
        "...                  ...  \n",
        "84265            7 years  \n",
        "80231          10+ years  \n",
        "49533            4 years  \n",
        "102514           2 years  \n",
        "78618          10+ years  \n",
        "86953           < 1 year  \n",
        "80129          10+ years  \n",
        "85216            6 years  \n",
        "38247            4 years  \n",
        "91245          10+ years  \n",
        "53041            2 years  \n",
        "63051            5 years  \n",
        "14446          10+ years  \n",
        "68628            2 years  \n",
        "98758          10+ years  \n",
        "13070            6 years  \n",
        "45836            3 years  \n",
        "52330            2 years  \n",
        "48243            6 years  \n",
        "63256          10+ years  \n",
        "42124            3 years  \n",
        "78043                n/a  \n",
        "925            10+ years  \n",
        "74047          10+ years  \n",
        "49957            5 years  \n",
        "23735            8 years  \n",
        "65882          10+ years  \n",
        "55610          10+ years  \n",
        "38576            5 years  \n",
        "3116           10+ years  \n",
        "\n",
        "[2500 rows x 14 columns]\n"
       ]
      }
     ],
     "prompt_number": 16
    },
    {
     "cell_type": "code",
     "collapsed": false,
     "input": [
      "print type(loansData)"
     ],
     "language": "python",
     "metadata": {},
     "outputs": [
      {
       "output_type": "stream",
       "stream": "stdout",
       "text": [
        "<class 'pandas.core.frame.DataFrame'>\n"
       ]
      }
     ],
     "prompt_number": 23
    },
    {
     "cell_type": "code",
     "collapsed": false,
     "input": [
      "df =loansData['Low Interest'] = loansData['Interest.Rate'] < 12"
     ],
     "language": "python",
     "metadata": {},
     "outputs": [],
     "prompt_number": 30
    },
    {
     "cell_type": "code",
     "collapsed": false,
     "input": [
      "df[0:5]"
     ],
     "language": "python",
     "metadata": {},
     "outputs": [
      {
       "html": [
        "<div style=\"max-height:1000px;max-width:1500px;overflow:auto;\">\n",
        "<table border=\"1\" class=\"dataframe\">\n",
        "  <thead>\n",
        "    <tr style=\"text-align: right;\">\n",
        "      <th></th>\n",
        "      <th>Amount.Requested</th>\n",
        "      <th>Amount.Funded.By.Investors</th>\n",
        "      <th>Interest.Rate</th>\n",
        "      <th>Loan.Length</th>\n",
        "      <th>Loan.Purpose</th>\n",
        "      <th>Debt.To.Income.Ratio</th>\n",
        "      <th>State</th>\n",
        "      <th>Home.Ownership</th>\n",
        "      <th>Monthly.Income</th>\n",
        "      <th>FICO.Range</th>\n",
        "      <th>Open.CREDIT.Lines</th>\n",
        "      <th>Revolving.CREDIT.Balance</th>\n",
        "      <th>Inquiries.in.the.Last.6.Months</th>\n",
        "      <th>Employment.Length</th>\n",
        "      <th>Low Interest</th>\n",
        "      <th>Constant</th>\n",
        "    </tr>\n",
        "  </thead>\n",
        "  <tbody>\n",
        "    <tr>\n",
        "      <th>81174</th>\n",
        "      <td> 20000</td>\n",
        "      <td> 20000</td>\n",
        "      <td> 0.0890</td>\n",
        "      <td> 36 months</td>\n",
        "      <td> debt_consolidation</td>\n",
        "      <td> 14.90%</td>\n",
        "      <td> SC</td>\n",
        "      <td> MORTGAGE</td>\n",
        "      <td>  6541.67</td>\n",
        "      <td> 735-739</td>\n",
        "      <td> 14</td>\n",
        "      <td> 14272</td>\n",
        "      <td> 2</td>\n",
        "      <td> &lt; 1 year</td>\n",
        "      <td>  True</td>\n",
        "      <td> 1</td>\n",
        "    </tr>\n",
        "    <tr>\n",
        "      <th>99592</th>\n",
        "      <td> 19200</td>\n",
        "      <td> 19200</td>\n",
        "      <td> 0.1212</td>\n",
        "      <td> 36 months</td>\n",
        "      <td> debt_consolidation</td>\n",
        "      <td> 28.36%</td>\n",
        "      <td> TX</td>\n",
        "      <td> MORTGAGE</td>\n",
        "      <td>  4583.33</td>\n",
        "      <td> 715-719</td>\n",
        "      <td> 12</td>\n",
        "      <td> 11140</td>\n",
        "      <td> 1</td>\n",
        "      <td>  2 years</td>\n",
        "      <td> False</td>\n",
        "      <td> 1</td>\n",
        "    </tr>\n",
        "    <tr>\n",
        "      <th>80059</th>\n",
        "      <td> 35000</td>\n",
        "      <td> 35000</td>\n",
        "      <td> 0.2198</td>\n",
        "      <td> 60 months</td>\n",
        "      <td> debt_consolidation</td>\n",
        "      <td> 23.81%</td>\n",
        "      <td> CA</td>\n",
        "      <td> MORTGAGE</td>\n",
        "      <td> 11500.00</td>\n",
        "      <td> 690-694</td>\n",
        "      <td> 14</td>\n",
        "      <td> 21977</td>\n",
        "      <td> 1</td>\n",
        "      <td>  2 years</td>\n",
        "      <td> False</td>\n",
        "      <td> 1</td>\n",
        "    </tr>\n",
        "    <tr>\n",
        "      <th>15825</th>\n",
        "      <td> 10000</td>\n",
        "      <td>  9975</td>\n",
        "      <td> 0.0999</td>\n",
        "      <td> 36 months</td>\n",
        "      <td> debt_consolidation</td>\n",
        "      <td> 14.30%</td>\n",
        "      <td> KS</td>\n",
        "      <td> MORTGAGE</td>\n",
        "      <td>  3833.33</td>\n",
        "      <td> 695-699</td>\n",
        "      <td> 10</td>\n",
        "      <td>  9346</td>\n",
        "      <td> 0</td>\n",
        "      <td>  5 years</td>\n",
        "      <td>  True</td>\n",
        "      <td> 1</td>\n",
        "    </tr>\n",
        "    <tr>\n",
        "      <th>33182</th>\n",
        "      <td> 12000</td>\n",
        "      <td> 12000</td>\n",
        "      <td> 0.1171</td>\n",
        "      <td> 36 months</td>\n",
        "      <td>        credit_card</td>\n",
        "      <td> 18.78%</td>\n",
        "      <td> NJ</td>\n",
        "      <td>     RENT</td>\n",
        "      <td>  3195.00</td>\n",
        "      <td> 695-699</td>\n",
        "      <td> 11</td>\n",
        "      <td> 14469</td>\n",
        "      <td> 0</td>\n",
        "      <td>  9 years</td>\n",
        "      <td>  True</td>\n",
        "      <td> 1</td>\n",
        "    </tr>\n",
        "  </tbody>\n",
        "</table>\n",
        "</div>"
       ],
       "metadata": {},
       "output_type": "pyout",
       "prompt_number": 120,
       "text": [
        "       Amount.Requested  Amount.Funded.By.Investors  Interest.Rate  \\\n",
        "81174             20000                       20000         0.0890   \n",
        "99592             19200                       19200         0.1212   \n",
        "80059             35000                       35000         0.2198   \n",
        "15825             10000                        9975         0.0999   \n",
        "33182             12000                       12000         0.1171   \n",
        "\n",
        "      Loan.Length        Loan.Purpose Debt.To.Income.Ratio State  \\\n",
        "81174   36 months  debt_consolidation               14.90%    SC   \n",
        "99592   36 months  debt_consolidation               28.36%    TX   \n",
        "80059   60 months  debt_consolidation               23.81%    CA   \n",
        "15825   36 months  debt_consolidation               14.30%    KS   \n",
        "33182   36 months         credit_card               18.78%    NJ   \n",
        "\n",
        "      Home.Ownership  Monthly.Income FICO.Range  Open.CREDIT.Lines  \\\n",
        "81174       MORTGAGE         6541.67    735-739                 14   \n",
        "99592       MORTGAGE         4583.33    715-719                 12   \n",
        "80059       MORTGAGE        11500.00    690-694                 14   \n",
        "15825       MORTGAGE         3833.33    695-699                 10   \n",
        "33182           RENT         3195.00    695-699                 11   \n",
        "\n",
        "       Revolving.CREDIT.Balance  Inquiries.in.the.Last.6.Months  \\\n",
        "81174                     14272                               2   \n",
        "99592                     11140                               1   \n",
        "80059                     21977                               1   \n",
        "15825                      9346                               0   \n",
        "33182                     14469                               0   \n",
        "\n",
        "      Employment.Length Low Interest  Constant  \n",
        "81174          < 1 year         True         1  \n",
        "99592           2 years        False         1  \n",
        "80059           2 years        False         1  \n",
        "15825           5 years         True         1  \n",
        "33182           9 years         True         1  "
       ]
      }
     ],
     "prompt_number": 120
    },
    {
     "cell_type": "code",
     "collapsed": false,
     "input": [
      "type(loansData[\"Interest.Rate\"][3116])"
     ],
     "language": "python",
     "metadata": {},
     "outputs": [
      {
       "metadata": {},
       "output_type": "pyout",
       "prompt_number": 121,
       "text": [
        "str"
       ]
      }
     ],
     "prompt_number": 121
    },
    {
     "cell_type": "code",
     "collapsed": false,
     "input": [
      "loansData['Interest.Rate'] = loansData['Interest.Rate'].map(lambda x: round(float(x.rstrip('%')) /100,4))"
     ],
     "language": "python",
     "metadata": {},
     "outputs": [],
     "prompt_number": 122
    },
    {
     "cell_type": "code",
     "collapsed": false,
     "input": [
      "type(loansData[\"Interest.Rate\"][3116])"
     ],
     "language": "python",
     "metadata": {},
     "outputs": [
      {
       "metadata": {},
       "output_type": "pyout",
       "prompt_number": 123,
       "text": [
        "numpy.float64"
       ]
      }
     ],
     "prompt_number": 123
    },
    {
     "cell_type": "code",
     "collapsed": false,
     "input": [
      "df =loansData['Low Interest'] = loansData['Interest.Rate'] < .12"
     ],
     "language": "python",
     "metadata": {},
     "outputs": [],
     "prompt_number": 124
    },
    {
     "cell_type": "code",
     "collapsed": false,
     "input": [
      "df = loansData"
     ],
     "language": "python",
     "metadata": {},
     "outputs": [],
     "prompt_number": 125
    },
    {
     "cell_type": "code",
     "collapsed": false,
     "input": [
      "print df"
     ],
     "language": "python",
     "metadata": {},
     "outputs": [
      {
       "output_type": "stream",
       "stream": "stdout",
       "text": [
        "        Amount.Requested  Amount.Funded.By.Investors  Interest.Rate  \\\n",
        "81174              20000                    20000.00         0.0890   \n",
        "99592              19200                    19200.00         0.1212   \n",
        "80059              35000                    35000.00         0.2198   \n",
        "15825              10000                     9975.00         0.0999   \n",
        "33182              12000                    12000.00         0.1171   \n",
        "62403               6000                     6000.00         0.1531   \n",
        "48808              10000                    10000.00         0.0790   \n",
        "22090              33500                    33450.00         0.1714   \n",
        "76404              14675                    14675.00         0.1433   \n",
        "15867               7000                     7000.00         0.0691   \n",
        "94971               2000                     2000.00         0.1972   \n",
        "36911              10625                    10625.00         0.1427   \n",
        "41200              28000                    27975.00         0.2167   \n",
        "83869              35000                    34950.00         0.0890   \n",
        "53853               9600                     9600.00         0.0762   \n",
        "21399              25000                    24975.00         0.1565   \n",
        "62127              10000                    10000.00         0.1212   \n",
        "23446              14000                    13900.25         0.1037   \n",
        "44987              10000                    10000.00         0.0976   \n",
        "17977               5200                     5175.00         0.0999   \n",
        "86099              22000                    21975.00         0.2198   \n",
        "99483              30000                    30000.00         0.1905   \n",
        "28798               6500                     6500.00         0.1799   \n",
        "24168              17400                    17400.00         0.1199   \n",
        "10356               4000                     4000.00         0.1682   \n",
        "46027               7200                     7200.00         0.0790   \n",
        "2238                8000                     8000.00         0.1442   \n",
        "65278               8000                     8000.00         0.1531   \n",
        "4227                3000                     3000.00         0.0859   \n",
        "50182              14500                    14500.00         0.0790   \n",
        "...                  ...                         ...            ...   \n",
        "84265              20000                    20000.00         0.2295   \n",
        "80231              19000                    19000.00         0.0790   \n",
        "49533              17300                    17250.00         0.2245   \n",
        "102514              7000                      711.54         0.1513   \n",
        "78618               7200                     7200.00         0.1875   \n",
        "86953              10000                    10000.00         0.1409   \n",
        "80129               4000                     3925.00         0.1409   \n",
        "85216              17500                    17500.00         0.0890   \n",
        "38247              20000                    20000.00         0.1171   \n",
        "91245              16200                    16200.00         0.1580   \n",
        "53041              10000                    10000.00         0.0603   \n",
        "63051              27000                    27000.00         0.0662   \n",
        "14446               4500                     4475.00         0.0751   \n",
        "68628              15875                    15875.00         0.1433   \n",
        "98758              15000                    15000.00         0.1016   \n",
        "13070              25000                    24950.00         0.1075   \n",
        "45836               7000                     7000.00         0.1727   \n",
        "52330              15000                    15000.00         0.1999   \n",
        "48243              17000                    17000.00         0.1581   \n",
        "63256              19075                    19075.00         0.1875   \n",
        "42124              10000                    10000.00         0.1171   \n",
        "78043               8475                     8475.00         0.0762   \n",
        "925                 6400                     6350.00         0.1008   \n",
        "74047              30000                    30000.00         0.2328   \n",
        "49957              24000                    23975.00         0.1465   \n",
        "23735              30000                    29950.00         0.1677   \n",
        "65882              16000                    16000.00         0.1409   \n",
        "55610              10000                    10000.00         0.1399   \n",
        "38576               6000                     6000.00         0.1242   \n",
        "3116                9000                     5242.75         0.1379   \n",
        "\n",
        "        Loan.Length        Loan.Purpose Debt.To.Income.Ratio State  \\\n",
        "81174            36  debt_consolidation               14.90%    SC   \n",
        "99592            36  debt_consolidation               28.36%    TX   \n",
        "80059            60  debt_consolidation               23.81%    CA   \n",
        "15825            36  debt_consolidation               14.30%    KS   \n",
        "33182            36         credit_card               18.78%    NJ   \n",
        "62403            36               other               20.05%    CT   \n",
        "48808            36  debt_consolidation               26.09%    MA   \n",
        "22090            60         credit_card               14.70%    LA   \n",
        "76404            36         credit_card               26.92%    CA   \n",
        "15867            36         credit_card                7.10%    CA   \n",
        "94971            36              moving               10.29%    FL   \n",
        "36911            36  debt_consolidation               12.54%    CA   \n",
        "41200            60  debt_consolidation               13.07%    CT   \n",
        "83869            36  debt_consolidation               20.46%    CT   \n",
        "53853            36  debt_consolidation                3.45%    DC   \n",
        "21399            60  debt_consolidation               21.99%    CA   \n",
        "62127            36  debt_consolidation               17.72%    CA   \n",
        "23446            60  debt_consolidation               11.95%    OH   \n",
        "44987            36         credit_card                7.13%    FL   \n",
        "17977            60  debt_consolidation               10.29%    AL   \n",
        "86099            36  debt_consolidation               11.19%    TX   \n",
        "99483            60         credit_card               21.25%    FL   \n",
        "28798            60                 car               19.63%    FL   \n",
        "24168            36         credit_card               12.47%    AZ   \n",
        "10356            60            vacation               13.71%    GA   \n",
        "46027            36  debt_consolidation               24.82%    TX   \n",
        "2238             36  debt_consolidation               24.63%    MA   \n",
        "65278            36  debt_consolidation               15.46%    CA   \n",
        "4227             36               other                3.72%    MA   \n",
        "50182            36  debt_consolidation                4.85%    GA   \n",
        "...             ...                 ...                  ...   ...   \n",
        "84265            60  debt_consolidation                7.10%    NJ   \n",
        "80231            36  debt_consolidation                9.76%    RI   \n",
        "49533            60             wedding                3.58%    PA   \n",
        "102514           36      major_purchase               18.91%    CO   \n",
        "78618            36  debt_consolidation               16.21%    MI   \n",
        "86953            36      major_purchase                9.71%    CO   \n",
        "80129            36         credit_card               12.27%    FL   \n",
        "85216            36  debt_consolidation               10.94%    UT   \n",
        "38247            36         credit_card                9.58%    SD   \n",
        "91245            60  debt_consolidation                7.92%    PA   \n",
        "53041            36      small_business               13.03%    FL   \n",
        "63051            36  debt_consolidation               12.21%    OH   \n",
        "14446            36      small_business               20.27%    VA   \n",
        "68628            36      small_business               17.44%    MD   \n",
        "98758            36         credit_card               28.28%    OH   \n",
        "13070            36  debt_consolidation               20.48%    OR   \n",
        "45836            36               other               18.38%    NY   \n",
        "52330            36             wedding               18.05%    CA   \n",
        "48243            36  debt_consolidation               17.01%    CO   \n",
        "63256            36  debt_consolidation               15.23%    NY   \n",
        "42124            36  debt_consolidation                8.40%    CA   \n",
        "78043            36  debt_consolidation               15.88%    CA   \n",
        "925              36  debt_consolidation                8.11%    NJ   \n",
        "74047            60               other               12.10%    IL   \n",
        "49957            36  debt_consolidation               15.29%    WA   \n",
        "23735            60  debt_consolidation               19.23%    NY   \n",
        "65882            60    home_improvement               21.54%    MD   \n",
        "55610            36  debt_consolidation                4.89%    PA   \n",
        "38576            36      major_purchase               16.66%    NJ   \n",
        "3116             36  debt_consolidation                6.76%    NY   \n",
        "\n",
        "       Home.Ownership  Monthly.Income FICO.Range  Open.CREDIT.Lines  \\\n",
        "81174        MORTGAGE         6541.67        735                 14   \n",
        "99592        MORTGAGE         4583.33        715                 12   \n",
        "80059        MORTGAGE        11500.00        690                 14   \n",
        "15825        MORTGAGE         3833.33        695                 10   \n",
        "33182            RENT         3195.00        695                 11   \n",
        "62403             OWN         4891.67        670                 17   \n",
        "48808            RENT         2916.67        720                 10   \n",
        "22090        MORTGAGE        13863.42        705                 12   \n",
        "76404            RENT         3150.00        685                  9   \n",
        "15867            RENT         5000.00        715                  8   \n",
        "94971            RENT         3575.00        670                 10   \n",
        "36911        MORTGAGE         4250.00        665                 14   \n",
        "41200        MORTGAGE        14166.67        670                 12   \n",
        "83869            RENT         9166.67        735                 19   \n",
        "53853            RENT        11250.00        725                 13   \n",
        "21399            RENT         5416.67        730                  6   \n",
        "62127            RENT         9000.00        695                 18   \n",
        "23446            RENT         4333.33        740                  6   \n",
        "44987            RENT         2733.33        730                  7   \n",
        "17977        MORTGAGE         3750.00        760                 10   \n",
        "86099        MORTGAGE         6666.67        665                  9   \n",
        "99483        MORTGAGE         6250.00        695                 12   \n",
        "28798            RENT         4100.00        665                 11   \n",
        "24168            RENT         6833.33        695                  7   \n",
        "10356        MORTGAGE         4500.00        670                  5   \n",
        "46027            RENT         5416.67        705                  8   \n",
        "2238             RENT         2964.17        675                  9   \n",
        "65278        MORTGAGE         2916.67        675                 13   \n",
        "4227         MORTGAGE         4167.00        765                  4   \n",
        "50182        MORTGAGE         3958.33        760                  4   \n",
        "...               ...             ...        ...                ...   \n",
        "84265            RENT         6750.00        665                  6   \n",
        "80231        MORTGAGE         5166.67        770                 18   \n",
        "49533        MORTGAGE         5500.00        685                 11   \n",
        "102514       MORTGAGE         3833.00        650                 13   \n",
        "78618            RENT         8333.33        660                  8   \n",
        "86953            RENT         4583.33        675                  6   \n",
        "80129        MORTGAGE         8583.33        675                  9   \n",
        "85216        MORTGAGE        25000.00        730                  9   \n",
        "38247        MORTGAGE         5416.67        725                 12   \n",
        "91245        MORTGAGE         4833.33        680                 12   \n",
        "53041            RENT         5000.00        760                  8   \n",
        "63051        MORTGAGE         9250.00        810                 12   \n",
        "14446        MORTGAGE         7075.50        720                 15   \n",
        "68628        MORTGAGE         3416.67        675                 11   \n",
        "98758        MORTGAGE         6666.67        690                 15   \n",
        "13070        MORTGAGE         7083.33        765                 10   \n",
        "45836             OWN         2464.37        665                  9   \n",
        "52330            RENT         8000.00        660                  6   \n",
        "48243            RENT         3833.33        685                  6   \n",
        "63256            RENT         5166.67        670                 17   \n",
        "42124            RENT         4500.00        710                  8   \n",
        "78043            RENT         3983.33        720                  9   \n",
        "925          MORTGAGE         5166.67        710                  5   \n",
        "74047        MORTGAGE         7083.33        675                 16   \n",
        "49957        MORTGAGE         6666.67        685                 13   \n",
        "23735        MORTGAGE         9250.00        705                 15   \n",
        "65882             OWN         8903.25        740                 18   \n",
        "55610        MORTGAGE         2166.67        680                  4   \n",
        "38576            RENT         3500.00        675                  8   \n",
        "3116             RENT         3875.00        670                  7   \n",
        "\n",
        "        Revolving.CREDIT.Balance  Inquiries.in.the.Last.6.Months  \\\n",
        "81174                      14272                               2   \n",
        "99592                      11140                               1   \n",
        "80059                      21977                               1   \n",
        "15825                       9346                               0   \n",
        "33182                      14469                               0   \n",
        "62403                      10391                               2   \n",
        "48808                      15957                               0   \n",
        "22090                      27874                               0   \n",
        "76404                       7246                               1   \n",
        "15867                       7612                               0   \n",
        "94971                      12036                               0   \n",
        "36911                      10767                               0   \n",
        "41200                      10311                               0   \n",
        "83869                      21536                               0   \n",
        "53853                       4606                               0   \n",
        "21399                      13929                               0   \n",
        "62127                      20317                               0   \n",
        "23446                       7419                               0   \n",
        "44987                       6112                               2   \n",
        "17977                      16094                               0   \n",
        "86099                      23124                               0   \n",
        "99483                      34927                               0   \n",
        "28798                      11697                               1   \n",
        "24168                      26587                               0   \n",
        "10356                      20804                               0   \n",
        "46027                      12017                               0   \n",
        "2238                        8928                               2   \n",
        "65278                       7152                               1   \n",
        "4227                        7074                               0   \n",
        "50182                       9598                               0   \n",
        "...                          ...                             ...   \n",
        "84265                      16104                               1   \n",
        "80231                      43617                               2   \n",
        "49533                       2306                               3   \n",
        "102514                     12634                               0   \n",
        "78618                      28916                               0   \n",
        "86953                       3859                               0   \n",
        "80129                      36943                               1   \n",
        "85216                      34545                               0   \n",
        "38247                      18267                               1   \n",
        "91245                      12313                               2   \n",
        "53041                       3952                               0   \n",
        "63051                       4211                               0   \n",
        "14446                      68618                               2   \n",
        "68628                      15891                               0   \n",
        "98758                      14880                               0   \n",
        "13070                      25429                               0   \n",
        "45836                       7089                               0   \n",
        "52330                      45976                               1   \n",
        "48243                      15484                               1   \n",
        "63256                      13749                               3   \n",
        "42124                       8404                               1   \n",
        "78043                       6882                               0   \n",
        "925                         5815                               2   \n",
        "74047                      17969                               1   \n",
        "49957                      17521                               0   \n",
        "23735                      45880                               1   \n",
        "65882                      18898                               1   \n",
        "55610                       4544                               0   \n",
        "38576                       7753                               0   \n",
        "3116                        7589                               0   \n",
        "\n",
        "       Employment.Length  FICO.Score Low Interest  \n",
        "81174           < 1 year         735         True  \n",
        "99592            2 years         715        False  \n",
        "80059            2 years         690        False  \n",
        "15825            5 years         695         True  \n",
        "33182            9 years         695         True  \n",
        "62403            3 years         670        False  \n",
        "48808          10+ years         720         True  \n",
        "22090          10+ years         705        False  \n",
        "76404            8 years         685        False  \n",
        "15867            3 years         715         True  \n",
        "94971            6 years         670        False  \n",
        "36911           < 1 year         665        False  \n",
        "41200             1 year         670        False  \n",
        "83869             1 year         735         True  \n",
        "53853           < 1 year         725         True  \n",
        "21399            9 years         730        False  \n",
        "62127            7 years         695        False  \n",
        "23446            9 years         740         True  \n",
        "44987            3 years         730         True  \n",
        "17977           < 1 year         760         True  \n",
        "86099          10+ years         665        False  \n",
        "99483            6 years         695        False  \n",
        "28798            2 years         665        False  \n",
        "24168            7 years         695         True  \n",
        "10356            3 years         670        False  \n",
        "46027            7 years         705         True  \n",
        "2238             6 years         675        False  \n",
        "65278            5 years         675        False  \n",
        "4227             5 years         765         True  \n",
        "50182            4 years         760         True  \n",
        "...                  ...         ...          ...  \n",
        "84265            7 years         665        False  \n",
        "80231          10+ years         770         True  \n",
        "49533            4 years         685        False  \n",
        "102514           2 years         650        False  \n",
        "78618          10+ years         660        False  \n",
        "86953           < 1 year         675        False  \n",
        "80129          10+ years         675        False  \n",
        "85216            6 years         730         True  \n",
        "38247            4 years         725         True  \n",
        "91245          10+ years         680        False  \n",
        "53041            2 years         760         True  \n",
        "63051            5 years         810         True  \n",
        "14446          10+ years         720         True  \n",
        "68628            2 years         675        False  \n",
        "98758          10+ years         690         True  \n",
        "13070            6 years         765         True  \n",
        "45836            3 years         665        False  \n",
        "52330            2 years         660        False  \n",
        "48243            6 years         685        False  \n",
        "63256          10+ years         670        False  \n",
        "42124            3 years         710         True  \n",
        "78043                n/a         720         True  \n",
        "925            10+ years         710         True  \n",
        "74047          10+ years         675        False  \n",
        "49957            5 years         685        False  \n",
        "23735            8 years         705        False  \n",
        "65882          10+ years         740        False  \n",
        "55610          10+ years         680        False  \n",
        "38576            5 years         675        False  \n",
        "3116           10+ years         670        False  \n",
        "\n",
        "[2500 rows x 16 columns]\n"
       ]
      }
     ],
     "prompt_number": 126
    },
    {
     "cell_type": "code",
     "collapsed": false,
     "input": [
      "df2 = loansData['Constant'] = 1"
     ],
     "language": "python",
     "metadata": {},
     "outputs": [],
     "prompt_number": 127
    },
    {
     "cell_type": "code",
     "collapsed": false,
     "input": [
      "df2"
     ],
     "language": "python",
     "metadata": {},
     "outputs": [
      {
       "metadata": {},
       "output_type": "pyout",
       "prompt_number": 128,
       "text": [
        "1"
       ]
      }
     ],
     "prompt_number": 128
    },
    {
     "cell_type": "code",
     "collapsed": false,
     "input": [
      "intrate = loansData['Interest.Rate']\n",
      "loanamt = loansData['Amount.Requested']\n",
      "fico = loansData['FICO.Score']\n"
     ],
     "language": "python",
     "metadata": {},
     "outputs": [],
     "prompt_number": 129
    },
    {
     "cell_type": "code",
     "collapsed": false,
     "input": [
      "df3 = "
     ],
     "language": "python",
     "metadata": {},
     "outputs": []
    }
   ],
   "metadata": {}
  }
 ]
}