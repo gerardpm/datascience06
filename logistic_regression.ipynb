{
 "metadata": {
  "name": "",
  "signature": "sha256:2e7ac97d2550eafbc6dfbcbc8fff2c24f824823cb2cb78cf44c86c58804eeb53"
 },
 "nbformat": 3,
 "nbformat_minor": 0,
 "worksheets": [
  {
   "cells": [
    {
     "cell_type": "code",
     "collapsed": false,
     "input": [
      "import pandas as pd\n",
      "import numpy as np\n",
      "import statsmodels.api as sm\n",
      "import matplotlib.pyplot as plt"
     ],
     "language": "python",
     "metadata": {},
     "outputs": [],
     "prompt_number": 46
    },
    {
     "cell_type": "code",
     "collapsed": false,
     "input": [
      "loansData = pd.read_csv('https://spark-public.s3.amazonaws.com/dataanalysis/loansData.csv')"
     ],
     "language": "python",
     "metadata": {},
     "outputs": [],
     "prompt_number": 47
    },
    {
     "cell_type": "code",
     "collapsed": false,
     "input": [
      "x = loansData['Interest.Rate'][0:5].values[1]"
     ],
     "language": "python",
     "metadata": {},
     "outputs": [],
     "prompt_number": 48
    },
    {
     "cell_type": "code",
     "collapsed": false,
     "input": [
      "y = lambda x: round(float(x.rstrip('%')) / 100,4)"
     ],
     "language": "python",
     "metadata": {},
     "outputs": [],
     "prompt_number": 49
    },
    {
     "cell_type": "code",
     "collapsed": false,
     "input": [
      "y"
     ],
     "language": "python",
     "metadata": {},
     "outputs": [
      {
       "metadata": {},
       "output_type": "pyout",
       "prompt_number": 50,
       "text": [
        "<function __main__.<lambda>>"
       ]
      }
     ],
     "prompt_number": 50
    },
    {
     "cell_type": "code",
     "collapsed": false,
     "input": [
      "y(x)"
     ],
     "language": "python",
     "metadata": {},
     "outputs": [
      {
       "metadata": {},
       "output_type": "pyout",
       "prompt_number": 51,
       "text": [
        "0.1212"
       ]
      }
     ],
     "prompt_number": 51
    },
    {
     "cell_type": "code",
     "collapsed": false,
     "input": [
      "loansData['Loan.Length'][0:5]"
     ],
     "language": "python",
     "metadata": {},
     "outputs": [
      {
       "metadata": {},
       "output_type": "pyout",
       "prompt_number": 52,
       "text": [
        "81174    36 months\n",
        "99592    36 months\n",
        "80059    60 months\n",
        "15825    36 months\n",
        "33182    36 months\n",
        "Name: Loan.Length, dtype: object"
       ]
      }
     ],
     "prompt_number": 52
    },
    {
     "cell_type": "code",
     "collapsed": false,
     "input": [
      "loansData['FICO.Range'] = loansData['FICO.Range'].map(lambda x: x.split('-')[0])"
     ],
     "language": "python",
     "metadata": {},
     "outputs": [],
     "prompt_number": 53
    },
    {
     "cell_type": "code",
     "collapsed": false,
     "input": [
      "loansData['FICO.Range'][0:5]"
     ],
     "language": "python",
     "metadata": {},
     "outputs": [
      {
       "metadata": {},
       "output_type": "pyout",
       "prompt_number": 54,
       "text": [
        "81174    735\n",
        "99592    715\n",
        "80059    690\n",
        "15825    695\n",
        "33182    695\n",
        "Name: FICO.Range, dtype: object"
       ]
      }
     ],
     "prompt_number": 54
    },
    {
     "cell_type": "code",
     "collapsed": false,
     "input": [
      "loansData['FICO.Score'] = loansData['FICO.Range']"
     ],
     "language": "python",
     "metadata": {},
     "outputs": [],
     "prompt_number": 55
    },
    {
     "cell_type": "code",
     "collapsed": false,
     "input": [
      "loansData['FICO.Range'][0:5]"
     ],
     "language": "python",
     "metadata": {},
     "outputs": [
      {
       "metadata": {},
       "output_type": "pyout",
       "prompt_number": 56,
       "text": [
        "81174    735\n",
        "99592    715\n",
        "80059    690\n",
        "15825    695\n",
        "33182    695\n",
        "Name: FICO.Range, dtype: object"
       ]
      }
     ],
     "prompt_number": 56
    },
    {
     "cell_type": "code",
     "collapsed": false,
     "input": [
      "loansData['FICO.Score'][0:5]"
     ],
     "language": "python",
     "metadata": {},
     "outputs": [
      {
       "metadata": {},
       "output_type": "pyout",
       "prompt_number": 57,
       "text": [
        "81174    735\n",
        "99592    715\n",
        "80059    690\n",
        "15825    695\n",
        "33182    695\n",
        "Name: FICO.Score, dtype: object"
       ]
      }
     ],
     "prompt_number": 57
    },
    {
     "cell_type": "code",
     "collapsed": false,
     "input": [
      "loansData['FICO.Score']= loansData['FICO.Score'].apply(float)"
     ],
     "language": "python",
     "metadata": {},
     "outputs": [],
     "prompt_number": 58
    },
    {
     "cell_type": "code",
     "collapsed": false,
     "input": [
      "loansData['FICO.Score'][0:5]"
     ],
     "language": "python",
     "metadata": {},
     "outputs": [
      {
       "metadata": {},
       "output_type": "pyout",
       "prompt_number": 59,
       "text": [
        "81174    735\n",
        "99592    715\n",
        "80059    690\n",
        "15825    695\n",
        "33182    695\n",
        "Name: FICO.Score, dtype: float64"
       ]
      }
     ],
     "prompt_number": 59
    },
    {
     "cell_type": "code",
     "collapsed": false,
     "input": [
      "loansData['Interest.Rate'][0:5]"
     ],
     "language": "python",
     "metadata": {},
     "outputs": [
      {
       "metadata": {},
       "output_type": "pyout",
       "prompt_number": 60,
       "text": [
        "81174     8.90%\n",
        "99592    12.12%\n",
        "80059    21.98%\n",
        "15825     9.99%\n",
        "33182    11.71%\n",
        "Name: Interest.Rate, dtype: object"
       ]
      }
     ],
     "prompt_number": 60
    },
    {
     "cell_type": "code",
     "collapsed": false,
     "input": [
      "loansData['Interest.Rate'] = loansData['Interest.Rate'].map(lambda x: round(float(x.rstrip('%')) /100,4))"
     ],
     "language": "python",
     "metadata": {},
     "outputs": [],
     "prompt_number": 61
    },
    {
     "cell_type": "code",
     "collapsed": false,
     "input": [
      "loansData['Interest.Rate'][0:5]"
     ],
     "language": "python",
     "metadata": {},
     "outputs": [
      {
       "metadata": {},
       "output_type": "pyout",
       "prompt_number": 62,
       "text": [
        "81174    0.0890\n",
        "99592    0.1212\n",
        "80059    0.2198\n",
        "15825    0.0999\n",
        "33182    0.1171\n",
        "Name: Interest.Rate, dtype: float64"
       ]
      }
     ],
     "prompt_number": 62
    },
    {
     "cell_type": "code",
     "collapsed": false,
     "input": [
      "df =loansData['Less than 12 percent'] = loansData['Interest.Rate'] < .12"
     ],
     "language": "python",
     "metadata": {},
     "outputs": [],
     "prompt_number": 63
    },
    {
     "cell_type": "code",
     "collapsed": false,
     "input": [
      "type(loansData[\"Interest.Rate\"][3116])"
     ],
     "language": "python",
     "metadata": {},
     "outputs": [
      {
       "metadata": {},
       "output_type": "pyout",
       "prompt_number": 64,
       "text": [
        "numpy.float64"
       ]
      }
     ],
     "prompt_number": 64
    },
    {
     "cell_type": "code",
     "collapsed": false,
     "input": [
      "loansData.to_csv('loansData_clean.csv', header=True, index=False)"
     ],
     "language": "python",
     "metadata": {},
     "outputs": [],
     "prompt_number": 65
    },
    {
     "cell_type": "code",
     "collapsed": false,
     "input": [
      "print loansData[0:5]"
     ],
     "language": "python",
     "metadata": {},
     "outputs": [
      {
       "output_type": "stream",
       "stream": "stdout",
       "text": [
        "       Amount.Requested  Amount.Funded.By.Investors  Interest.Rate  \\\n",
        "81174             20000                       20000         0.0890   \n",
        "99592             19200                       19200         0.1212   \n",
        "80059             35000                       35000         0.2198   \n",
        "15825             10000                        9975         0.0999   \n",
        "33182             12000                       12000         0.1171   \n",
        "\n",
        "      Loan.Length        Loan.Purpose Debt.To.Income.Ratio State  \\\n",
        "81174   36 months  debt_consolidation               14.90%    SC   \n",
        "99592   36 months  debt_consolidation               28.36%    TX   \n",
        "80059   60 months  debt_consolidation               23.81%    CA   \n",
        "15825   36 months  debt_consolidation               14.30%    KS   \n",
        "33182   36 months         credit_card               18.78%    NJ   \n",
        "\n",
        "      Home.Ownership  Monthly.Income FICO.Range  Open.CREDIT.Lines  \\\n",
        "81174       MORTGAGE         6541.67        735                 14   \n",
        "99592       MORTGAGE         4583.33        715                 12   \n",
        "80059       MORTGAGE        11500.00        690                 14   \n",
        "15825       MORTGAGE         3833.33        695                 10   \n",
        "33182           RENT         3195.00        695                 11   \n",
        "\n",
        "       Revolving.CREDIT.Balance  Inquiries.in.the.Last.6.Months  \\\n",
        "81174                     14272                               2   \n",
        "99592                     11140                               1   \n",
        "80059                     21977                               1   \n",
        "15825                      9346                               0   \n",
        "33182                     14469                               0   \n",
        "\n",
        "      Employment.Length  FICO.Score Less than 12 percent  \n",
        "81174          < 1 year         735                 True  \n",
        "99592           2 years         715                False  \n",
        "80059           2 years         690                False  \n",
        "15825           5 years         695                 True  \n",
        "33182           9 years         695                 True  \n"
       ]
      }
     ],
     "prompt_number": 66
    },
    {
     "cell_type": "code",
     "collapsed": false,
     "input": [
      "print type(loansData)"
     ],
     "language": "python",
     "metadata": {},
     "outputs": [
      {
       "output_type": "stream",
       "stream": "stdout",
       "text": [
        "<class 'pandas.core.frame.DataFrame'>\n"
       ]
      }
     ],
     "prompt_number": 67
    },
    {
     "cell_type": "code",
     "collapsed": false,
     "input": [
      "df[0:5]"
     ],
     "language": "python",
     "metadata": {},
     "outputs": [
      {
       "metadata": {},
       "output_type": "pyout",
       "prompt_number": 68,
       "text": [
        "81174     True\n",
        "99592    False\n",
        "80059    False\n",
        "15825     True\n",
        "33182     True\n",
        "Name: Interest.Rate, dtype: bool"
       ]
      }
     ],
     "prompt_number": 68
    },
    {
     "cell_type": "code",
     "collapsed": false,
     "input": [
      "type(loansData[\"Interest.Rate\"][3116])"
     ],
     "language": "python",
     "metadata": {},
     "outputs": [
      {
       "metadata": {},
       "output_type": "pyout",
       "prompt_number": 69,
       "text": [
        "numpy.float64"
       ]
      }
     ],
     "prompt_number": 69
    },
    {
     "cell_type": "code",
     "collapsed": false,
     "input": [
      "df = loansData"
     ],
     "language": "python",
     "metadata": {},
     "outputs": [],
     "prompt_number": 70
    },
    {
     "cell_type": "code",
     "collapsed": false,
     "input": [
      "print df [0:5]"
     ],
     "language": "python",
     "metadata": {},
     "outputs": [
      {
       "output_type": "stream",
       "stream": "stdout",
       "text": [
        "       Amount.Requested  Amount.Funded.By.Investors  Interest.Rate  \\\n",
        "81174             20000                       20000         0.0890   \n",
        "99592             19200                       19200         0.1212   \n",
        "80059             35000                       35000         0.2198   \n",
        "15825             10000                        9975         0.0999   \n",
        "33182             12000                       12000         0.1171   \n",
        "\n",
        "      Loan.Length        Loan.Purpose Debt.To.Income.Ratio State  \\\n",
        "81174   36 months  debt_consolidation               14.90%    SC   \n",
        "99592   36 months  debt_consolidation               28.36%    TX   \n",
        "80059   60 months  debt_consolidation               23.81%    CA   \n",
        "15825   36 months  debt_consolidation               14.30%    KS   \n",
        "33182   36 months         credit_card               18.78%    NJ   \n",
        "\n",
        "      Home.Ownership  Monthly.Income FICO.Range  Open.CREDIT.Lines  \\\n",
        "81174       MORTGAGE         6541.67        735                 14   \n",
        "99592       MORTGAGE         4583.33        715                 12   \n",
        "80059       MORTGAGE        11500.00        690                 14   \n",
        "15825       MORTGAGE         3833.33        695                 10   \n",
        "33182           RENT         3195.00        695                 11   \n",
        "\n",
        "       Revolving.CREDIT.Balance  Inquiries.in.the.Last.6.Months  \\\n",
        "81174                     14272                               2   \n",
        "99592                     11140                               1   \n",
        "80059                     21977                               1   \n",
        "15825                      9346                               0   \n",
        "33182                     14469                               0   \n",
        "\n",
        "      Employment.Length  FICO.Score Less than 12 percent  \n",
        "81174          < 1 year         735                 True  \n",
        "99592           2 years         715                False  \n",
        "80059           2 years         690                False  \n",
        "15825           5 years         695                 True  \n",
        "33182           9 years         695                 True  \n"
       ]
      }
     ],
     "prompt_number": 71
    },
    {
     "cell_type": "code",
     "collapsed": false,
     "input": [
      "print df.head()"
     ],
     "language": "python",
     "metadata": {},
     "outputs": [
      {
       "output_type": "stream",
       "stream": "stdout",
       "text": [
        "       Amount.Requested  Amount.Funded.By.Investors  Interest.Rate  \\\n",
        "81174             20000                       20000         0.0890   \n",
        "99592             19200                       19200         0.1212   \n",
        "80059             35000                       35000         0.2198   \n",
        "15825             10000                        9975         0.0999   \n",
        "33182             12000                       12000         0.1171   \n",
        "\n",
        "      Loan.Length        Loan.Purpose Debt.To.Income.Ratio State  \\\n",
        "81174   36 months  debt_consolidation               14.90%    SC   \n",
        "99592   36 months  debt_consolidation               28.36%    TX   \n",
        "80059   60 months  debt_consolidation               23.81%    CA   \n",
        "15825   36 months  debt_consolidation               14.30%    KS   \n",
        "33182   36 months         credit_card               18.78%    NJ   \n",
        "\n",
        "      Home.Ownership  Monthly.Income FICO.Range  Open.CREDIT.Lines  \\\n",
        "81174       MORTGAGE         6541.67        735                 14   \n",
        "99592       MORTGAGE         4583.33        715                 12   \n",
        "80059       MORTGAGE        11500.00        690                 14   \n",
        "15825       MORTGAGE         3833.33        695                 10   \n",
        "33182           RENT         3195.00        695                 11   \n",
        "\n",
        "       Revolving.CREDIT.Balance  Inquiries.in.the.Last.6.Months  \\\n",
        "81174                     14272                               2   \n",
        "99592                     11140                               1   \n",
        "80059                     21977                               1   \n",
        "15825                      9346                               0   \n",
        "33182                     14469                               0   \n",
        "\n",
        "      Employment.Length  FICO.Score Less than 12 percent  \n",
        "81174          < 1 year         735                 True  \n",
        "99592           2 years         715                False  \n",
        "80059           2 years         690                False  \n",
        "15825           5 years         695                 True  \n",
        "33182           9 years         695                 True  \n"
       ]
      }
     ],
     "prompt_number": 72
    },
    {
     "cell_type": "code",
     "collapsed": false,
     "input": [
      "print df.columns "
     ],
     "language": "python",
     "metadata": {},
     "outputs": [
      {
       "output_type": "stream",
       "stream": "stdout",
       "text": [
        "Index([u'Amount.Requested', u'Amount.Funded.By.Investors', u'Interest.Rate', u'Loan.Length', u'Loan.Purpose', u'Debt.To.Income.Ratio', u'State', u'Home.Ownership', u'Monthly.Income', u'FICO.Range', u'Open.CREDIT.Lines', u'Revolving.CREDIT.Balance', u'Inquiries.in.the.Last.6.Months', u'Employment.Length', u'FICO.Score', u'Less than 12 percent'], dtype='object')\n"
       ]
      }
     ],
     "prompt_number": 73
    },
    {
     "cell_type": "code",
     "collapsed": false,
     "input": [
      "print df.describe()"
     ],
     "language": "python",
     "metadata": {},
     "outputs": [
      {
       "output_type": "stream",
       "stream": "stdout",
       "text": [
        "       Amount.Requested  Amount.Funded.By.Investors  Interest.Rate  \\\n",
        "count       2500.000000                 2500.000000    2500.000000   \n",
        "mean       12406.500000                12001.573236       0.130670   \n",
        "std         7801.544872                 7745.320754       0.041782   \n",
        "min         1000.000000                   -0.010000       0.054200   \n",
        "25%         6000.000000                 6000.000000       0.101600   \n",
        "50%        10000.000000                10000.000000       0.131100   \n",
        "75%        17000.000000                16000.000000       0.158000   \n",
        "max        35000.000000                35000.000000       0.248900   \n",
        "\n",
        "       Monthly.Income  Open.CREDIT.Lines  Revolving.CREDIT.Balance  \\\n",
        "count     2499.000000        2498.000000               2498.000000   \n",
        "mean      5688.931321          10.075661              15244.559648   \n",
        "std       3963.118185           4.508644              18308.549795   \n",
        "min        588.500000           2.000000                  0.000000   \n",
        "25%       3500.000000           7.000000               5585.750000   \n",
        "50%       5000.000000           9.000000              10962.000000   \n",
        "75%       6800.000000          13.000000              18888.750000   \n",
        "max     102750.000000          38.000000             270800.000000   \n",
        "\n",
        "       Inquiries.in.the.Last.6.Months   FICO.Score Less than 12 percent  \n",
        "count                     2498.000000  2500.000000                 2500  \n",
        "mean                         0.906325   705.888000               0.3968  \n",
        "std                          1.231036    35.033161            0.4893317  \n",
        "min                          0.000000   640.000000                False  \n",
        "25%                          0.000000   680.000000                    0  \n",
        "50%                          0.000000   700.000000                    0  \n",
        "75%                          1.000000   725.000000                    1  \n",
        "max                          9.000000   830.000000                 True  \n"
       ]
      }
     ],
     "prompt_number": 74
    },
    {
     "cell_type": "code",
     "collapsed": false,
     "input": [
      "print df.std()"
     ],
     "language": "python",
     "metadata": {},
     "outputs": [
      {
       "output_type": "stream",
       "stream": "stdout",
       "text": [
        "Amount.Requested                   7801.544872\n",
        "Amount.Funded.By.Investors         7745.320754\n",
        "Interest.Rate                         0.041782\n",
        "Monthly.Income                     3963.118185\n",
        "Open.CREDIT.Lines                     4.508644\n",
        "Revolving.CREDIT.Balance          18308.549795\n",
        "Inquiries.in.the.Last.6.Months        1.231036\n",
        "FICO.Score                           35.033161\n",
        "Less than 12 percent                  0.489332\n",
        "dtype: float64\n"
       ]
      }
     ],
     "prompt_number": 75
    },
    {
     "cell_type": "code",
     "collapsed": false,
     "input": [
      "df.hist()\n",
      "plt.show()"
     ],
     "language": "python",
     "metadata": {},
     "outputs": [],
     "prompt_number": 76
    },
    {
     "cell_type": "code",
     "collapsed": false,
     "input": [
      "dummy_ranks = pd.get_dummies(df['Less than 12 percent'], prefix='Less than 12 percent')\n",
      "print dummy_ranks[0:5]"
     ],
     "language": "python",
     "metadata": {},
     "outputs": [
      {
       "output_type": "stream",
       "stream": "stdout",
       "text": [
        "       Less than 12 percent_False  Less than 12 percent_True\n",
        "81174                           0                          1\n",
        "99592                           1                          0\n",
        "80059                           1                          0\n",
        "15825                           0                          1\n",
        "33182                           0                          1\n"
       ]
      }
     ],
     "prompt_number": 77
    },
    {
     "cell_type": "code",
     "collapsed": false,
     "input": [
      "intercept = [1] * len(loansData)\n",
      "loansData['Intercept'] = intercept"
     ],
     "language": "python",
     "metadata": {},
     "outputs": [],
     "prompt_number": 78
    },
    {
     "cell_type": "code",
     "collapsed": false,
     "input": [
      "ind_var = ['Interest.Rate', 'FICO.Score', 'Amount.Requested', 'Intercept']\n",
      "data = df[ind_var].join(dummy_ranks.ix[:, 'Less than 12 percent_True':])"
     ],
     "language": "python",
     "metadata": {},
     "outputs": [],
     "prompt_number": 79
    },
    {
     "cell_type": "code",
     "collapsed": false,
     "input": [
      "ind_var[0:5]\n",
      "print data [0:5]"
     ],
     "language": "python",
     "metadata": {},
     "outputs": [
      {
       "output_type": "stream",
       "stream": "stdout",
       "text": [
        "       Interest.Rate  FICO.Score  Amount.Requested  Intercept  \\\n",
        "81174         0.0890         735             20000          1   \n",
        "99592         0.1212         715             19200          1   \n",
        "80059         0.2198         690             35000          1   \n",
        "15825         0.0999         695             10000          1   \n",
        "33182         0.1171         695             12000          1   \n",
        "\n",
        "       Less than 12 percent_True  \n",
        "81174                          1  \n",
        "99592                          0  \n",
        "80059                          0  \n",
        "15825                          1  \n",
        "33182                          1  \n"
       ]
      }
     ],
     "prompt_number": 80
    },
    {
     "cell_type": "code",
     "collapsed": false,
     "input": [
      "print data [0:5]"
     ],
     "language": "python",
     "metadata": {},
     "outputs": [
      {
       "output_type": "stream",
       "stream": "stdout",
       "text": [
        "       Interest.Rate  FICO.Score  Amount.Requested  Intercept  \\\n",
        "81174         0.0890         735             20000          1   \n",
        "99592         0.1212         715             19200          1   \n",
        "80059         0.2198         690             35000          1   \n",
        "15825         0.0999         695             10000          1   \n",
        "33182         0.1171         695             12000          1   \n",
        "\n",
        "       Less than 12 percent_True  \n",
        "81174                          1  \n",
        "99592                          0  \n",
        "80059                          0  \n",
        "15825                          1  \n",
        "33182                          1  \n"
       ]
      }
     ],
     "prompt_number": 81
    },
    {
     "cell_type": "code",
     "collapsed": false,
     "input": [
      "df.shape"
     ],
     "language": "python",
     "metadata": {},
     "outputs": [
      {
       "metadata": {},
       "output_type": "pyout",
       "prompt_number": 85,
       "text": [
        "(2500, 17)"
       ]
      }
     ],
     "prompt_number": 85
    },
    {
     "cell_type": "code",
     "collapsed": false,
     "input": [
      "print df['Less than 12 percent'][0:5]"
     ],
     "language": "python",
     "metadata": {},
     "outputs": [
      {
       "output_type": "stream",
       "stream": "stdout",
       "text": [
        "81174     True\n",
        "99592    False\n",
        "80059    False\n",
        "15825     True\n",
        "33182     True\n",
        "Name: Less than 12 percent, dtype: bool\n"
       ]
      }
     ],
     "prompt_number": 82
    },
    {
     "cell_type": "code",
     "collapsed": false,
     "input": [
      "print df[ind_var][0:5]"
     ],
     "language": "python",
     "metadata": {},
     "outputs": [
      {
       "output_type": "stream",
       "stream": "stdout",
       "text": [
        "       Interest.Rate  FICO.Score  Amount.Requested  Intercept\n",
        "81174         0.0890         735             20000          1\n",
        "99592         0.1212         715             19200          1\n",
        "80059         0.2198         690             35000          1\n",
        "15825         0.0999         695             10000          1\n",
        "33182         0.1171         695             12000          1\n"
       ]
      }
     ],
     "prompt_number": 42
    },
    {
     "cell_type": "code",
     "collapsed": false,
     "input": [
      " logit = sm.Logit(df['Less than 12 percent'],df[ind_var])"
     ],
     "language": "python",
     "metadata": {},
     "outputs": [],
     "prompt_number": 86
    },
    {
     "cell_type": "code",
     "collapsed": false,
     "input": [
      "result = logit.fit()"
     ],
     "language": "python",
     "metadata": {},
     "outputs": [
      {
       "ename": "PerfectSeparationError",
       "evalue": "Perfect separation detected, results not available",
       "output_type": "pyerr",
       "traceback": [
        "\u001b[1;31m---------------------------------------------------------------------------\u001b[0m\n\u001b[1;31mPerfectSeparationError\u001b[0m                    Traceback (most recent call last)",
        "\u001b[1;32m<ipython-input-87-151aaeb473bd>\u001b[0m in \u001b[0;36m<module>\u001b[1;34m()\u001b[0m\n\u001b[1;32m----> 1\u001b[1;33m \u001b[0mresult\u001b[0m \u001b[1;33m=\u001b[0m \u001b[0mlogit\u001b[0m\u001b[1;33m.\u001b[0m\u001b[0mfit\u001b[0m\u001b[1;33m(\u001b[0m\u001b[1;33m)\u001b[0m\u001b[1;33m\u001b[0m\u001b[0m\n\u001b[0m",
        "\u001b[1;32mC:\\Users\\gerar_000\\Anaconda\\lib\\site-packages\\statsmodels\\discrete\\discrete_model.pyc\u001b[0m in \u001b[0;36mfit\u001b[1;34m(self, start_params, method, maxiter, full_output, disp, callback, **kwargs)\u001b[0m\n\u001b[0;32m   1184\u001b[0m         bnryfit = super(Logit, self).fit(start_params=start_params,\n\u001b[0;32m   1185\u001b[0m                 \u001b[0mmethod\u001b[0m\u001b[1;33m=\u001b[0m\u001b[0mmethod\u001b[0m\u001b[1;33m,\u001b[0m \u001b[0mmaxiter\u001b[0m\u001b[1;33m=\u001b[0m\u001b[0mmaxiter\u001b[0m\u001b[1;33m,\u001b[0m \u001b[0mfull_output\u001b[0m\u001b[1;33m=\u001b[0m\u001b[0mfull_output\u001b[0m\u001b[1;33m,\u001b[0m\u001b[1;33m\u001b[0m\u001b[0m\n\u001b[1;32m-> 1186\u001b[1;33m                 disp=disp, callback=callback, **kwargs)\n\u001b[0m\u001b[0;32m   1187\u001b[0m         \u001b[0mdiscretefit\u001b[0m \u001b[1;33m=\u001b[0m \u001b[0mLogitResults\u001b[0m\u001b[1;33m(\u001b[0m\u001b[0mself\u001b[0m\u001b[1;33m,\u001b[0m \u001b[0mbnryfit\u001b[0m\u001b[1;33m)\u001b[0m\u001b[1;33m\u001b[0m\u001b[0m\n\u001b[0;32m   1188\u001b[0m         \u001b[1;32mreturn\u001b[0m \u001b[0mBinaryResultsWrapper\u001b[0m\u001b[1;33m(\u001b[0m\u001b[0mdiscretefit\u001b[0m\u001b[1;33m)\u001b[0m\u001b[1;33m\u001b[0m\u001b[0m\n",
        "\u001b[1;32mC:\\Users\\gerar_000\\Anaconda\\lib\\site-packages\\statsmodels\\discrete\\discrete_model.pyc\u001b[0m in \u001b[0;36mfit\u001b[1;34m(self, start_params, method, maxiter, full_output, disp, callback, **kwargs)\u001b[0m\n\u001b[0;32m    162\u001b[0m         mlefit = super(DiscreteModel, self).fit(start_params=start_params,\n\u001b[0;32m    163\u001b[0m                 \u001b[0mmethod\u001b[0m\u001b[1;33m=\u001b[0m\u001b[0mmethod\u001b[0m\u001b[1;33m,\u001b[0m \u001b[0mmaxiter\u001b[0m\u001b[1;33m=\u001b[0m\u001b[0mmaxiter\u001b[0m\u001b[1;33m,\u001b[0m \u001b[0mfull_output\u001b[0m\u001b[1;33m=\u001b[0m\u001b[0mfull_output\u001b[0m\u001b[1;33m,\u001b[0m\u001b[1;33m\u001b[0m\u001b[0m\n\u001b[1;32m--> 164\u001b[1;33m                 disp=disp, callback=callback, **kwargs)\n\u001b[0m\u001b[0;32m    165\u001b[0m         \u001b[1;32mreturn\u001b[0m \u001b[0mmlefit\u001b[0m \u001b[1;31m# up to subclasses to wrap results\u001b[0m\u001b[1;33m\u001b[0m\u001b[0m\n\u001b[0;32m    166\u001b[0m \u001b[1;33m\u001b[0m\u001b[0m\n",
        "\u001b[1;32mC:\\Users\\gerar_000\\Anaconda\\lib\\site-packages\\statsmodels\\base\\model.pyc\u001b[0m in \u001b[0;36mfit\u001b[1;34m(self, start_params, method, maxiter, full_output, disp, fargs, callback, retall, **kwargs)\u001b[0m\n\u001b[0;32m    355\u001b[0m                              \u001b[0mdisp\u001b[0m\u001b[1;33m=\u001b[0m\u001b[0mdisp\u001b[0m\u001b[1;33m,\u001b[0m \u001b[0mmaxiter\u001b[0m\u001b[1;33m=\u001b[0m\u001b[0mmaxiter\u001b[0m\u001b[1;33m,\u001b[0m \u001b[0mcallback\u001b[0m\u001b[1;33m=\u001b[0m\u001b[0mcallback\u001b[0m\u001b[1;33m,\u001b[0m\u001b[1;33m\u001b[0m\u001b[0m\n\u001b[0;32m    356\u001b[0m                              \u001b[0mretall\u001b[0m\u001b[1;33m=\u001b[0m\u001b[0mretall\u001b[0m\u001b[1;33m,\u001b[0m \u001b[0mfull_output\u001b[0m\u001b[1;33m=\u001b[0m\u001b[0mfull_output\u001b[0m\u001b[1;33m,\u001b[0m\u001b[1;33m\u001b[0m\u001b[0m\n\u001b[1;32m--> 357\u001b[1;33m                              hess=hess)\n\u001b[0m\u001b[0;32m    358\u001b[0m \u001b[1;33m\u001b[0m\u001b[0m\n\u001b[0;32m    359\u001b[0m         \u001b[1;32mif\u001b[0m \u001b[1;32mnot\u001b[0m \u001b[0mfull_output\u001b[0m\u001b[1;33m:\u001b[0m \u001b[1;31m# xopt should be None and retvals is argmin\u001b[0m\u001b[1;33m\u001b[0m\u001b[0m\n",
        "\u001b[1;32mC:\\Users\\gerar_000\\Anaconda\\lib\\site-packages\\statsmodels\\base\\model.pyc\u001b[0m in \u001b[0;36m_fit_mle_newton\u001b[1;34m(f, score, start_params, fargs, kwargs, disp, maxiter, callback, retall, full_output, hess)\u001b[0m\n\u001b[0;32m    408\u001b[0m             \u001b[0mhistory\u001b[0m\u001b[1;33m.\u001b[0m\u001b[0mappend\u001b[0m\u001b[1;33m(\u001b[0m\u001b[0mnewparams\u001b[0m\u001b[1;33m)\u001b[0m\u001b[1;33m\u001b[0m\u001b[0m\n\u001b[0;32m    409\u001b[0m         \u001b[1;32mif\u001b[0m \u001b[0mcallback\u001b[0m \u001b[1;32mis\u001b[0m \u001b[1;32mnot\u001b[0m \u001b[0mNone\u001b[0m\u001b[1;33m:\u001b[0m\u001b[1;33m\u001b[0m\u001b[0m\n\u001b[1;32m--> 410\u001b[1;33m             \u001b[0mcallback\u001b[0m\u001b[1;33m(\u001b[0m\u001b[0mnewparams\u001b[0m\u001b[1;33m)\u001b[0m\u001b[1;33m\u001b[0m\u001b[0m\n\u001b[0m\u001b[0;32m    411\u001b[0m         \u001b[0miterations\u001b[0m \u001b[1;33m+=\u001b[0m \u001b[1;36m1\u001b[0m\u001b[1;33m\u001b[0m\u001b[0m\n\u001b[0;32m    412\u001b[0m     \u001b[0mfval\u001b[0m \u001b[1;33m=\u001b[0m \u001b[0mf\u001b[0m\u001b[1;33m(\u001b[0m\u001b[0mnewparams\u001b[0m\u001b[1;33m,\u001b[0m \u001b[1;33m*\u001b[0m\u001b[0mfargs\u001b[0m\u001b[1;33m)\u001b[0m  \u001b[1;31m# this is the negative likelihood\u001b[0m\u001b[1;33m\u001b[0m\u001b[0m\n",
        "\u001b[1;32mC:\\Users\\gerar_000\\Anaconda\\lib\\site-packages\\statsmodels\\discrete\\discrete_model.pyc\u001b[0m in \u001b[0;36m_check_perfect_pred\u001b[1;34m(self, params, *args)\u001b[0m\n\u001b[0;32m    145\u001b[0m                 np.allclose(fittedvalues - endog, 0)):\n\u001b[0;32m    146\u001b[0m             \u001b[0mmsg\u001b[0m \u001b[1;33m=\u001b[0m \u001b[1;34m\"Perfect separation detected, results not available\"\u001b[0m\u001b[1;33m\u001b[0m\u001b[0m\n\u001b[1;32m--> 147\u001b[1;33m             \u001b[1;32mraise\u001b[0m \u001b[0mPerfectSeparationError\u001b[0m\u001b[1;33m(\u001b[0m\u001b[0mmsg\u001b[0m\u001b[1;33m)\u001b[0m\u001b[1;33m\u001b[0m\u001b[0m\n\u001b[0m\u001b[0;32m    148\u001b[0m \u001b[1;33m\u001b[0m\u001b[0m\n\u001b[0;32m    149\u001b[0m     def fit(self, start_params=None, method='newton', maxiter=35,\n",
        "\u001b[1;31mPerfectSeparationError\u001b[0m: Perfect separation detected, results not available"
       ]
      }
     ],
     "prompt_number": 87
    },
    {
     "cell_type": "code",
     "collapsed": false,
     "input": [
      "coeff = result.params\n",
      "print coeff"
     ],
     "language": "python",
     "metadata": {},
     "outputs": [
      {
       "ename": "NameError",
       "evalue": "name 'result' is not defined",
       "output_type": "pyerr",
       "traceback": [
        "\u001b[1;31m---------------------------------------------------------------------------\u001b[0m\n\u001b[1;31mNameError\u001b[0m                                 Traceback (most recent call last)",
        "\u001b[1;32m<ipython-input-45-3c5b5ce8c4eb>\u001b[0m in \u001b[0;36m<module>\u001b[1;34m()\u001b[0m\n\u001b[1;32m----> 1\u001b[1;33m \u001b[0mcoeff\u001b[0m \u001b[1;33m=\u001b[0m \u001b[0mresult\u001b[0m\u001b[1;33m.\u001b[0m\u001b[0mparams\u001b[0m\u001b[1;33m\u001b[0m\u001b[0m\n\u001b[0m\u001b[0;32m      2\u001b[0m \u001b[1;32mprint\u001b[0m \u001b[0mcoeff\u001b[0m\u001b[1;33m\u001b[0m\u001b[0m\n",
        "\u001b[1;31mNameError\u001b[0m: name 'result' is not defined"
       ]
      }
     ],
     "prompt_number": 45
    },
    {
     "cell_type": "code",
     "collapsed": false,
     "input": [
      "plt.figure()"
     ],
     "language": "python",
     "metadata": {},
     "outputs": []
    },
    {
     "cell_type": "code",
     "collapsed": false,
     "input": [
      "df.columns"
     ],
     "language": "python",
     "metadata": {},
     "outputs": [
      {
       "metadata": {},
       "output_type": "pyout",
       "prompt_number": 44,
       "text": [
        "Index([u'Amount.Requested', u'Amount.Funded.By.Investors', u'Interest.Rate', u'Loan.Length', u'Loan.Purpose', u'Debt.To.Income.Ratio', u'State', u'Home.Ownership', u'Monthly.Income', u'FICO.Range', u'Open.CREDIT.Lines', u'Revolving.CREDIT.Balance', u'Inquiries.in.the.Last.6.Months', u'Employment.Length', u'FICO.Score', u'Less than 12 percent'], dtype='object')"
       ]
      }
     ],
     "prompt_number": 44
    },
    {
     "cell_type": "code",
     "collapsed": false,
     "input": [
      "intrate = df['Interest.Rate']\n",
      "loanamt = df['Amount.Requested']\n",
      "fico = df['FICO.Score']\n",
      "less12 = df['Less than 12 percent']"
     ],
     "language": "python",
     "metadata": {},
     "outputs": [],
     "prompt_number": 46
    },
    {
     "cell_type": "code",
     "collapsed": false,
     "input": [
      "print intrate[0:5]"
     ],
     "language": "python",
     "metadata": {},
     "outputs": [
      {
       "output_type": "stream",
       "stream": "stdout",
       "text": [
        "81174    0.0890\n",
        "99592    0.1212\n",
        "80059    0.2198\n",
        "15825    0.0999\n",
        "33182    0.1171\n",
        "Name: Interest.Rate, dtype: float64\n"
       ]
      }
     ],
     "prompt_number": 48
    },
    {
     "cell_type": "code",
     "collapsed": false,
     "input": [
      "y = np.matrix(less12).transpose()\n",
      "x1 = np.matrix(fico).transpose()\n",
      "x2 = np.matrix(loanamt).transpose()\n",
      "x3 = np.matrix(intrate).transpose()\n",
      "x = np.column_stack([x1,x2,x3])\n",
      "x = sm.add_constant(x)\n",
      "model = sm.OLS(y,x)\n",
      "f = model.fit()"
     ],
     "language": "python",
     "metadata": {},
     "outputs": [],
     "prompt_number": 63
    },
    {
     "cell_type": "code",
     "collapsed": false,
     "input": [
      "print 'Coefficient: ',f.params[0:3]\n",
      "print 'Intercept: ', f.params[3]\n",
      "print 'P-Values: ', f.pvalues\n",
      "print 'R-Squared: ', f.rsquared"
     ],
     "language": "python",
     "metadata": {},
     "outputs": [
      {
       "output_type": "stream",
       "stream": "stdout",
       "text": [
        "Coefficient:  [ -7.64820436e-01   3.03548700e-03  -3.02042958e-07]\n",
        "Intercept:  -7.47950115735\n",
        "P-Values:  [  2.28389577e-004   1.65361487e-029   7.34887791e-001   2.17519849e-186]\n",
        "R-Squared:  0.653833898855\n"
       ]
      }
     ],
     "prompt_number": 65
    },
    {
     "cell_type": "code",
     "collapsed": false,
     "input": [
      "print x [0:5]"
     ],
     "language": "python",
     "metadata": {},
     "outputs": [
      {
       "output_type": "stream",
       "stream": "stdout",
       "text": [
        "[[  1.00000000e+00   7.35000000e+02   2.00000000e+04   8.90000000e-02]\n",
        " [  1.00000000e+00   7.15000000e+02   1.92000000e+04   1.21200000e-01]\n",
        " [  1.00000000e+00   6.90000000e+02   3.50000000e+04   2.19800000e-01]\n",
        " [  1.00000000e+00   6.95000000e+02   1.00000000e+04   9.99000000e-02]\n",
        " [  1.00000000e+00   6.95000000e+02   1.20000000e+04   1.17100000e-01]]\n"
       ]
      }
     ],
     "prompt_number": 69
    },
    {
     "cell_type": "code",
     "collapsed": false,
     "input": [
      "print y [0:5]"
     ],
     "language": "python",
     "metadata": {},
     "outputs": [
      {
       "output_type": "stream",
       "stream": "stdout",
       "text": [
        "[[ True]\n",
        " [False]\n",
        " [False]\n",
        " [ True]\n",
        " [ True]]\n"
       ]
      }
     ],
     "prompt_number": 77
    },
    {
     "cell_type": "code",
     "collapsed": false,
     "input": [
      "type(y)"
     ],
     "language": "python",
     "metadata": {},
     "outputs": [
      {
       "metadata": {},
       "output_type": "pyout",
       "prompt_number": 76,
       "text": [
        "numpy.matrixlib.defmatrix.matrix"
       ]
      }
     ],
     "prompt_number": 76
    },
    {
     "cell_type": "code",
     "collapsed": false,
     "input": [
      "# the Linear prediction  that the interest rate will be less than 12% \n",
      "# less than 12%  = -7.47950115735 -7.64820436e-01(fico) + 3.03548700e-03(loanAmt)-3.02042958e-07(interest rate)\n",
      "\n",
      "# if the linear prediction for the interest_rate = \u221260.125 + 0.087423(FicoScore) \u2212 0.000174(LoanAmount)\n",
      "# tjem "
     ],
     "language": "python",
     "metadata": {},
     "outputs": [],
     "prompt_number": 62
    },
    {
     "cell_type": "code",
     "collapsed": false,
     "input": [
      "# the Logarithmic prediction that the interest rate will be less than 12 % =\n",
      "# p(x) = 1/(1 + e^(intercept -761.543952(intrate) +  0.133296(FicoScore) -0.000271(LoanAmount))"
     ],
     "language": "python",
     "metadata": {},
     "outputs": []
    }
   ],
   "metadata": {}
  }
 ]
}