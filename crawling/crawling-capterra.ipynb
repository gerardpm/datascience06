{
 "cells": [
  {
   "cell_type": "code",
   "execution_count": 146,
   "metadata": {
    "_datascience": {},
    "collapsed": true
   },
   "outputs": [],
   "source": [
    "from bs4 import BeautifulSoup\n",
    "import requests\n",
    "from collections import defaultdict\n",
    "import pandas as pd\n",
    "import time"
   ]
  },
  {
   "cell_type": "code",
   "execution_count": 14,
   "metadata": {
    "_datascience": {},
    "collapsed": false
   },
   "outputs": [],
   "source": [
    "url = \"http://www.capterra.com/project-management-software/\"\n",
    "r = requests.get(url)\n",
    "\n",
    "soup = BeautifulSoup(r.content)"
   ]
  },
  {
   "cell_type": "code",
   "execution_count": 24,
   "metadata": {
    "_datascience": {},
    "collapsed": false
   },
   "outputs": [
    {
     "name": "stdout",
     "output_type": "stream",
     "text": [
      "456\n"
     ]
    }
   ],
   "source": [
    "products = soup.findAll('div', {'class': 'card  zindex-hack  listing'})\n",
    "print len(products)"
   ]
  },
  {
   "cell_type": "code",
   "execution_count": 158,
   "metadata": {
    "_datascience": {},
    "collapsed": false
   },
   "outputs": [],
   "source": [
    "# TODO: for each product, extract the link to the profile page\n",
    "# TODO: crawl each profile page, put the URLs in urls object, instead of the shortcut shown below\n",
    "\n",
    "urls = ['http://www.capterra.com/project-management-software/spotlight/79104/Smartsheet/Smartsheet%20com',\n",
    "'http://www.capterra.com/project-management-software/spotlight/110832/Mavenlink/Mavenlink']"
   ]
  },
  {
   "cell_type": "code",
   "execution_count": 159,
   "metadata": {
    "_datascience": {},
    "collapsed": true
   },
   "outputs": [],
   "source": [
    "# We will populate this on the first iteration\n",
    "cols = []"
   ]
  },
  {
   "cell_type": "code",
   "execution_count": 160,
   "metadata": {
    "_datascience": {},
    "collapsed": false
   },
   "outputs": [],
   "source": [
    "pages = {}\n",
    "for url in urls:\n",
    "    r = requests.get(url)\n",
    "    pages[url] = r.text\n",
    "    # Sleep for a second to not hammer the server\n",
    "    time.sleep(1)"
   ]
  },
  {
   "cell_type": "code",
   "execution_count": 163,
   "metadata": {
    "_datascience": {},
    "collapsed": false
   },
   "outputs": [
    {
     "name": "stdout",
     "output_type": "stream",
     "text": [
      "Smartsheet\n",
      "Mavenlink\n"
     ]
    }
   ],
   "source": [
    "rows = []\n",
    "for url in urls:\n",
    "    page = pages[url]\n",
    "    soup = BeautifulSoup(page)\n",
    "    name = soup.find('h1', {'itemprop': 'name'}).text\n",
    "    print name\n",
    "    # This should only run the first time\n",
    "    if len(cols) == 0:\n",
    "        all_features = has_feature\n",
    "        all_features.extend(missing_feature)\n",
    "        cols = ['product_name']\n",
    "        cols.extend(all_features)\n",
    "    rawprice = details.text.split('\\n')[1].strip()\n",
    "    # TODO: do some further extraction on this data\n",
    "    has_feature = []\n",
    "    lis = soup.findAll('li', {'class': 'ss-check'})\n",
    "    for li in lis:\n",
    "        has_feature.append(li.text)\n",
    "    missing_feature = []\n",
    "    lis = soup.findAll('li', {'class': 'ss-delete color-gray'})\n",
    "    for li in lis:\n",
    "        missing_feature.append(li.text)\n",
    "    has_feature_dict = defaultdict(int)\n",
    "    for feature in has_feature:\n",
    "        has_feature_dict[feature] = 1\n",
    "    row = []\n",
    "    row.append(name)\n",
    "    for c in range(1, len(cols)):\n",
    "        has = has_feature_dict[cols[c]]\n",
    "        row.append(has)\n",
    "    rows.append(row)"
   ]
  },
  {
   "cell_type": "code",
   "execution_count": 168,
   "metadata": {
    "_datascience": {},
    "collapsed": false
   },
   "outputs": [
    {
     "data": {
      "text/html": [
       "<div style=\"max-height:1000px;max-width:1500px;overflow:auto;\">\n",
       "<table border=\"1\" class=\"dataframe\">\n",
       "  <thead>\n",
       "    <tr style=\"text-align: right;\">\n",
       "      <th></th>\n",
       "      <th>product_name</th>\n",
       "      <th>Budget Management</th>\n",
       "      <th>Collaboration</th>\n",
       "      <th>Email Integration</th>\n",
       "      <th>File Sharing</th>\n",
       "      <th>Gantt Charts</th>\n",
       "      <th>Issue Management</th>\n",
       "      <th>Milestone Tracking</th>\n",
       "      <th>Percent-Complete Tracking</th>\n",
       "      <th>Portfolio Management</th>\n",
       "      <th>Project Planning</th>\n",
       "      <th>Resource Management</th>\n",
       "      <th>Task Management</th>\n",
       "      <th>Time &amp; Expense Tracking</th>\n",
       "      <th>Bug Tracking</th>\n",
       "      <th>Idea Management</th>\n",
       "      <th>Requirements Management</th>\n",
       "      <th>Status Tracking</th>\n",
       "      <th>Testing / QA Management</th>\n",
       "    </tr>\n",
       "  </thead>\n",
       "  <tbody>\n",
       "    <tr>\n",
       "      <th>0</th>\n",
       "      <td>Smartsheet</td>\n",
       "      <td>1</td>\n",
       "      <td>1</td>\n",
       "      <td>1</td>\n",
       "      <td>1</td>\n",
       "      <td>1</td>\n",
       "      <td>1</td>\n",
       "      <td>1</td>\n",
       "      <td>1</td>\n",
       "      <td>0</td>\n",
       "      <td>1</td>\n",
       "      <td>1</td>\n",
       "      <td>1</td>\n",
       "      <td>1</td>\n",
       "      <td>0</td>\n",
       "      <td>0</td>\n",
       "      <td>0</td>\n",
       "      <td>1</td>\n",
       "      <td>0</td>\n",
       "    </tr>\n",
       "    <tr>\n",
       "      <th>1</th>\n",
       "      <td>Mavenlink</td>\n",
       "      <td>1</td>\n",
       "      <td>1</td>\n",
       "      <td>1</td>\n",
       "      <td>1</td>\n",
       "      <td>1</td>\n",
       "      <td>1</td>\n",
       "      <td>1</td>\n",
       "      <td>1</td>\n",
       "      <td>1</td>\n",
       "      <td>1</td>\n",
       "      <td>1</td>\n",
       "      <td>1</td>\n",
       "      <td>1</td>\n",
       "      <td>0</td>\n",
       "      <td>0</td>\n",
       "      <td>0</td>\n",
       "      <td>0</td>\n",
       "      <td>0</td>\n",
       "    </tr>\n",
       "  </tbody>\n",
       "</table>\n",
       "</div>"
      ],
      "text/plain": [
       "  product_name  Budget Management  Collaboration  Email Integration  \\\n",
       "0   Smartsheet                  1              1                  1   \n",
       "1    Mavenlink                  1              1                  1   \n",
       "\n",
       "   File Sharing  Gantt Charts  Issue Management  Milestone Tracking  \\\n",
       "0             1             1                 1                   1   \n",
       "1             1             1                 1                   1   \n",
       "\n",
       "   Percent-Complete Tracking  Portfolio Management  Project Planning  \\\n",
       "0                          1                     0                 1   \n",
       "1                          1                     1                 1   \n",
       "\n",
       "   Resource Management  Task Management  Time & Expense Tracking  \\\n",
       "0                    1                1                        1   \n",
       "1                    1                1                        1   \n",
       "\n",
       "   Bug Tracking  Idea Management  Requirements Management  Status Tracking  \\\n",
       "0             0                0                        0                1   \n",
       "1             0                0                        0                0   \n",
       "\n",
       "   Testing / QA Management  \n",
       "0                        0  \n",
       "1                        0  "
      ]
     },
     "execution_count": 168,
     "metadata": {},
     "output_type": "execute_result"
    }
   ],
   "source": [
    "df = pd.DataFrame(rows)\n",
    "df.columns = cols\n",
    "df"
   ]
  }
 ],
 "metadata": {
  "_datascience": {},
  "kernelspec": {
   "display_name": "Python 2",
   "language": "python",
   "name": "python2"
  },
  "language_info": {
   "codemirror_mode": {
    "name": "ipython",
    "version": 2
   },
   "file_extension": ".py",
   "mimetype": "text/x-python",
   "name": "python",
   "nbconvert_exporter": "python",
   "pygments_lexer": "ipython2",
   "version": "2.7.6"
  }
 },
 "nbformat": 4,
 "nbformat_minor": 0
}
