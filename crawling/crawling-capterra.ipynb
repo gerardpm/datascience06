{
 "cells": [
  {
   "cell_type": "code",
   "execution_count": 1,
   "metadata": {
    "_datascience": {},
    "collapsed": true
   },
   "outputs": [],
   "source": [
    "from bs4 import BeautifulSoup\n",
    "import requests\n",
    "from collections import defaultdict\n",
    "import pandas as pd\n",
    "import time"
   ]
  },
  {
   "cell_type": "code",
   "execution_count": 2,
   "metadata": {
    "_datascience": {},
    "collapsed": false
   },
   "outputs": [],
   "source": [
    "url = \"http://www.capterra.com/project-management-software/\"\n",
    "r = requests.get(url)\n",
    "\n",
    "soup = BeautifulSoup(r.content)"
   ]
  },
  {
   "cell_type": "code",
   "execution_count": 3,
   "metadata": {
    "_datascience": {},
    "collapsed": false
   },
   "outputs": [
    {
     "name": "stdout",
     "output_type": "stream",
     "text": [
      "457\n"
     ]
    }
   ],
   "source": [
    "products = soup.findAll('div', {'class': 'card  zindex-hack  listing'})\n",
    "print len(products)"
   ]
  },
  {
   "cell_type": "code",
   "execution_count": 6,
   "metadata": {
    "_datascience": {},
    "collapsed": false
   },
   "outputs": [],
   "source": [
    "# TODO: for each product, extract the link to the profile page\n",
    "# TODO: crawl each profile page, put the URLs in urls object, instead of the shortcut shown below\n",
    "\n",
    "urls = ['http://www.capterra.com/project-management-software/spotlight/79104/Smartsheet/Smartsheet%20com',\n",
    "'http://www.capterra.com/project-management-software/spotlight/110832/Mavenlink/Mavenlink']"
   ]
  },
  {
   "cell_type": "code",
   "execution_count": 4,
   "metadata": {
    "_datascience": {},
    "collapsed": true
   },
   "outputs": [],
   "source": [
    "# We will populate this on the first iteration\n",
    "cols = []"
   ]
  },
  {
   "cell_type": "code",
   "execution_count": 7,
   "metadata": {
    "_datascience": {},
    "collapsed": false
   },
   "outputs": [],
   "source": [
    "pages = {}\n",
    "for url in urls:\n",
    "    r = requests.get(url)\n",
    "    pages[url] = r.text\n",
    "    # Sleep for a second to not hammer the server\n",
    "    time.sleep(1)"
   ]
  },
  {
   "cell_type": "code",
   "execution_count": 29,
   "metadata": {
    "_datascience": {},
    "collapsed": false
   },
   "outputs": [
    {
     "data": {
      "text/plain": [
       "[]"
      ]
     },
     "execution_count": 29,
     "metadata": {},
     "output_type": "execute_result"
    }
   ],
   "source": [
    "all_features"
   ]
  },
  {
   "cell_type": "code",
   "execution_count": 30,
   "metadata": {
    "_datascience": {},
    "collapsed": false
   },
   "outputs": [
    {
     "name": "stdout",
     "output_type": "stream",
     "text": [
      "Smartsheet\n",
      "Mavenlink\n"
     ]
    }
   ],
   "source": [
    "rows = []\n",
    "for url in urls:\n",
    "    page = pages[url]\n",
    "    soup = BeautifulSoup(page)\n",
    "    name = soup.find('h1', {'itemprop': 'name'}).text\n",
    "    print name\n",
    "    # This should only run the first time\n",
    "    has_feature = []\n",
    "    missing_feature = []\n",
    "    checklist = soup.findAll('ul', {'class': 'check-list'})\n",
    "    close_to_price = checklist[1].findAll('div', {'class': 'cell seven-twelfths'})\n",
    "    rawprice= close_to_price[0].text.replace('See pricing details', '').strip()\n",
    "    # TODO: do some further extraction on this data\n",
    "    lis = soup.findAll('li', {'class': 'ss-check'})\n",
    "    for li in lis:\n",
    "        has_feature.append(li.text)\n",
    "    lis = soup.findAll('li', {'class': 'ss-delete color-gray'})\n",
    "    for li in lis:\n",
    "        missing_feature.append(li.text)\n",
    "    has_feature_dict = defaultdict(int)\n",
    "    for feature in has_feature:\n",
    "        has_feature_dict[feature] = 1\n",
    "    row = []\n",
    "    row.append(name)\n",
    "    if len(cols) == 0:\n",
    "        all_features = has_feature\n",
    "        all_features.extend(missing_feature)\n",
    "        cols = ['product_name']\n",
    "        cols.extend(all_features)\n",
    "    for c in range(1, len(cols)):\n",
    "        has = has_feature_dict[cols[c]]\n",
    "        row.append(has)\n",
    "    rows.append(row)"
   ]
  },
  {
   "cell_type": "code",
   "execution_count": 31,
   "metadata": {
    "_datascience": {},
    "collapsed": false
   },
   "outputs": [
    {
     "data": {
      "text/html": [
       "<div style=\"max-height:1000px;max-width:1500px;overflow:auto;\">\n",
       "<table border=\"1\" class=\"dataframe\">\n",
       "  <thead>\n",
       "    <tr style=\"text-align: right;\">\n",
       "      <th></th>\n",
       "      <th>product_name</th>\n",
       "    </tr>\n",
       "  </thead>\n",
       "  <tbody>\n",
       "    <tr>\n",
       "      <th>0</th>\n",
       "      <td>Smartsheet</td>\n",
       "    </tr>\n",
       "    <tr>\n",
       "      <th>1</th>\n",
       "      <td>Mavenlink</td>\n",
       "    </tr>\n",
       "  </tbody>\n",
       "</table>\n",
       "</div>"
      ],
      "text/plain": [
       "  product_name\n",
       "0   Smartsheet\n",
       "1    Mavenlink"
      ]
     },
     "execution_count": 31,
     "metadata": {},
     "output_type": "execute_result"
    }
   ],
   "source": [
    "df = pd.DataFrame(rows)\n",
    "df.columns = cols\n",
    "df"
   ]
  }
 ],
 "metadata": {
  "_datascience": {},
  "kernelspec": {
   "display_name": "Python 2",
   "language": "python",
   "name": "python2"
  },
  "language_info": {
   "codemirror_mode": {
    "name": "ipython",
    "version": 2
   },
   "file_extension": ".py",
   "mimetype": "text/x-python",
   "name": "python",
   "nbconvert_exporter": "python",
   "pygments_lexer": "ipython2",
   "version": "2.7.6"
  }
 },
 "nbformat": 4,
 "nbformat_minor": 0
}
