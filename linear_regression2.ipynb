{
 "metadata": {
  "name": "",
  "signature": "sha256:b6e3374c8809ce29aad34e748099d4515c38065fcf096fbefc1137fd2d438d9d"
 },
 "nbformat": 3,
 "nbformat_minor": 0,
 "worksheets": [
  {
   "cells": [
    {
     "cell_type": "code",
     "collapsed": false,
     "input": [
      "import pandas as pd"
     ],
     "language": "python",
     "metadata": {},
     "outputs": [],
     "prompt_number": 3
    },
    {
     "cell_type": "code",
     "collapsed": false,
     "input": [
      "loansData = pd.read_csv('https://spark-public.s3.amazonaws.com/dataanalysis/loansData.csv')"
     ],
     "language": "python",
     "metadata": {},
     "outputs": [],
     "prompt_number": 4
    },
    {
     "cell_type": "code",
     "collapsed": false,
     "input": [
      "x = loansData['Interest.Rate'][0:5].values[1]"
     ],
     "language": "python",
     "metadata": {},
     "outputs": [],
     "prompt_number": 5
    },
    {
     "cell_type": "code",
     "collapsed": false,
     "input": [
      "y = lambda x: round(float(x.rstrip('%')) / 100,4)"
     ],
     "language": "python",
     "metadata": {},
     "outputs": [],
     "prompt_number": 6
    },
    {
     "cell_type": "code",
     "collapsed": false,
     "input": [
      "y"
     ],
     "language": "python",
     "metadata": {},
     "outputs": [
      {
       "metadata": {},
       "output_type": "pyout",
       "prompt_number": 7,
       "text": [
        "<function __main__.<lambda>>"
       ]
      }
     ],
     "prompt_number": 7
    },
    {
     "cell_type": "code",
     "collapsed": false,
     "input": [
      "y(x)"
     ],
     "language": "python",
     "metadata": {},
     "outputs": [
      {
       "metadata": {},
       "output_type": "pyout",
       "prompt_number": 8,
       "text": [
        "0.1212"
       ]
      }
     ],
     "prompt_number": 8
    },
    {
     "cell_type": "code",
     "collapsed": false,
     "input": [
      "cleanInterestRate = loansData['Interest.Rate'].map(lambda x: round(float(x.rstrip('%')) /100,4))"
     ],
     "language": "python",
     "metadata": {},
     "outputs": [],
     "prompt_number": 9
    },
    {
     "cell_type": "code",
     "collapsed": false,
     "input": [
      "type(cleanInterestRate)"
     ],
     "language": "python",
     "metadata": {},
     "outputs": [
      {
       "metadata": {},
       "output_type": "pyout",
       "prompt_number": 10,
       "text": [
        "pandas.core.series.Series"
       ]
      }
     ],
     "prompt_number": 10
    },
    {
     "cell_type": "code",
     "collapsed": false,
     "input": [
      "cleanInterestRate[0:5]"
     ],
     "language": "python",
     "metadata": {},
     "outputs": [
      {
       "metadata": {},
       "output_type": "pyout",
       "prompt_number": 9,
       "text": [
        "81174    0.0890\n",
        "99592    0.1212\n",
        "80059    0.2198\n",
        "15825    0.0999\n",
        "33182    0.1171\n",
        "Name: Interest.Rate, dtype: float64"
       ]
      }
     ],
     "prompt_number": 9
    },
    {
     "cell_type": "code",
     "collapsed": false,
     "input": [
      "loansData['Loan.Length'][0:5]"
     ],
     "language": "python",
     "metadata": {},
     "outputs": [
      {
       "metadata": {},
       "output_type": "pyout",
       "prompt_number": 13,
       "text": [
        "81174    36 months\n",
        "99592    36 months\n",
        "80059    60 months\n",
        "15825    36 months\n",
        "33182    36 months\n",
        "Name: Loan.Length, dtype: object"
       ]
      }
     ],
     "prompt_number": 13
    },
    {
     "cell_type": "code",
     "collapsed": false,
     "input": [
      " cleanLoanLength = loansData['Loan.Length'].map(lambda x: int(x.rstrip(' months')))"
     ],
     "language": "python",
     "metadata": {},
     "outputs": [],
     "prompt_number": 14
    },
    {
     "cell_type": "code",
     "collapsed": false,
     "input": [
      "cleanLoanLength[0:5]"
     ],
     "language": "python",
     "metadata": {},
     "outputs": [
      {
       "metadata": {},
       "output_type": "pyout",
       "prompt_number": 15,
       "text": [
        "81174    36\n",
        "99592    36\n",
        "80059    60\n",
        "15825    36\n",
        "33182    36\n",
        "Name: Loan.Length, dtype: int64"
       ]
      }
     ],
     "prompt_number": 15
    },
    {
     "cell_type": "code",
     "collapsed": false,
     "input": [
      "loansData['Loan.Length'] = cleanLoanLength"
     ],
     "language": "python",
     "metadata": {},
     "outputs": [],
     "prompt_number": 16
    },
    {
     "cell_type": "code",
     "collapsed": false,
     "input": [
      "loansData['Loan.Length'][0:5]"
     ],
     "language": "python",
     "metadata": {},
     "outputs": [
      {
       "metadata": {},
       "output_type": "pyout",
       "prompt_number": 17,
       "text": [
        "81174    36\n",
        "99592    36\n",
        "80059    60\n",
        "15825    36\n",
        "33182    36\n",
        "Name: Loan.Length, dtype: int64"
       ]
      }
     ],
     "prompt_number": 17
    },
    {
     "cell_type": "code",
     "collapsed": false,
     "input": [
      "loansData['FICO.Range'][0:5]"
     ],
     "language": "python",
     "metadata": {},
     "outputs": [
      {
       "metadata": {},
       "output_type": "pyout",
       "prompt_number": 18,
       "text": [
        "81174    735-739\n",
        "99592    715-719\n",
        "80059    690-694\n",
        "15825    695-699\n",
        "33182    695-699\n",
        "Name: FICO.Range, dtype: object"
       ]
      }
     ],
     "prompt_number": 18
    },
    {
     "cell_type": "code",
     "collapsed": false,
     "input": [
      "cleanFICORange = loansData['FICO.Range'].map(lambda x: x.split('-')[0])"
     ],
     "language": "python",
     "metadata": {},
     "outputs": [],
     "prompt_number": 19
    },
    {
     "cell_type": "code",
     "collapsed": false,
     "input": [
      "cleanFICORange[0:5]"
     ],
     "language": "python",
     "metadata": {},
     "outputs": [
      {
       "metadata": {},
       "output_type": "pyout",
       "prompt_number": 20,
       "text": [
        "81174    735\n",
        "99592    715\n",
        "80059    690\n",
        "15825    695\n",
        "33182    695\n",
        "Name: FICO.Range, dtype: object"
       ]
      }
     ],
     "prompt_number": 20
    },
    {
     "cell_type": "code",
     "collapsed": false,
     "input": [
      "loansData.columns.values"
     ],
     "language": "python",
     "metadata": {},
     "outputs": [
      {
       "metadata": {},
       "output_type": "pyout",
       "prompt_number": 21,
       "text": [
        "array(['Amount.Requested', 'Amount.Funded.By.Investors', 'Interest.Rate',\n",
        "       'Loan.Length', 'Loan.Purpose', 'Debt.To.Income.Ratio', 'State',\n",
        "       'Home.Ownership', 'Monthly.Income', 'FICO.Range',\n",
        "       'Open.CREDIT.Lines', 'Revolving.CREDIT.Balance',\n",
        "       'Inquiries.in.the.Last.6.Months', 'Employment.Length'], dtype=object)"
       ]
      }
     ],
     "prompt_number": 21
    },
    {
     "cell_type": "code",
     "collapsed": false,
     "input": [
      "loansData['FICO.Score'] = cleanFICORange"
     ],
     "language": "python",
     "metadata": {},
     "outputs": [],
     "prompt_number": 22
    },
    {
     "cell_type": "code",
     "collapsed": false,
     "input": [
      "loansData['FICO.Range']"
     ],
     "language": "python",
     "metadata": {},
     "outputs": [
      {
       "metadata": {},
       "output_type": "pyout",
       "prompt_number": 23,
       "text": [
        "81174    735-739\n",
        "99592    715-719\n",
        "80059    690-694\n",
        "15825    695-699\n",
        "33182    695-699\n",
        "62403    670-674\n",
        "48808    720-724\n",
        "22090    705-709\n",
        "76404    685-689\n",
        "15867    715-719\n",
        "94971    670-674\n",
        "36911    665-669\n",
        "41200    670-674\n",
        "83869    735-739\n",
        "53853    725-729\n",
        "...\n",
        "13070    765-769\n",
        "45836    665-669\n",
        "52330    660-664\n",
        "48243    685-689\n",
        "63256    670-674\n",
        "42124    710-714\n",
        "78043    720-724\n",
        "925      710-714\n",
        "74047    675-679\n",
        "49957    685-689\n",
        "23735    705-709\n",
        "65882    740-744\n",
        "55610    680-684\n",
        "38576    675-679\n",
        "3116     670-674\n",
        "Name: FICO.Range, Length: 2500, dtype: object"
       ]
      }
     ],
     "prompt_number": 23
    },
    {
     "cell_type": "code",
     "collapsed": false,
     "input": [
      "loansData['FICO.Score']"
     ],
     "language": "python",
     "metadata": {},
     "outputs": [
      {
       "metadata": {},
       "output_type": "pyout",
       "prompt_number": 24,
       "text": [
        "81174    735\n",
        "99592    715\n",
        "80059    690\n",
        "15825    695\n",
        "33182    695\n",
        "62403    670\n",
        "48808    720\n",
        "22090    705\n",
        "76404    685\n",
        "15867    715\n",
        "94971    670\n",
        "36911    665\n",
        "41200    670\n",
        "83869    735\n",
        "53853    725\n",
        "...\n",
        "13070    765\n",
        "45836    665\n",
        "52330    660\n",
        "48243    685\n",
        "63256    670\n",
        "42124    710\n",
        "78043    720\n",
        "925      710\n",
        "74047    675\n",
        "49957    685\n",
        "23735    705\n",
        "65882    740\n",
        "55610    680\n",
        "38576    675\n",
        "3116     670\n",
        "Name: FICO.Score, Length: 2500, dtype: object"
       ]
      }
     ],
     "prompt_number": 24
    },
    {
     "cell_type": "code",
     "collapsed": false,
     "input": [
      "loansData['FICO.Score'].apply(float)"
     ],
     "language": "python",
     "metadata": {},
     "outputs": [
      {
       "metadata": {},
       "output_type": "pyout",
       "prompt_number": 25,
       "text": [
        "81174    735\n",
        "99592    715\n",
        "80059    690\n",
        "15825    695\n",
        "33182    695\n",
        "62403    670\n",
        "48808    720\n",
        "22090    705\n",
        "76404    685\n",
        "15867    715\n",
        "94971    670\n",
        "36911    665\n",
        "41200    670\n",
        "83869    735\n",
        "53853    725\n",
        "...\n",
        "13070    765\n",
        "45836    665\n",
        "52330    660\n",
        "48243    685\n",
        "63256    670\n",
        "42124    710\n",
        "78043    720\n",
        "925      710\n",
        "74047    675\n",
        "49957    685\n",
        "23735    705\n",
        "65882    740\n",
        "55610    680\n",
        "38576    675\n",
        "3116     670\n",
        "Name: FICO.Score, Length: 2500, dtype: float64"
       ]
      }
     ],
     "prompt_number": 25
    },
    {
     "cell_type": "code",
     "collapsed": false,
     "input": [
      "loansData['FICO.Score']"
     ],
     "language": "python",
     "metadata": {},
     "outputs": [
      {
       "metadata": {},
       "output_type": "pyout",
       "prompt_number": 26,
       "text": [
        "81174    735\n",
        "99592    715\n",
        "80059    690\n",
        "15825    695\n",
        "33182    695\n",
        "62403    670\n",
        "48808    720\n",
        "22090    705\n",
        "76404    685\n",
        "15867    715\n",
        "94971    670\n",
        "36911    665\n",
        "41200    670\n",
        "83869    735\n",
        "53853    725\n",
        "...\n",
        "13070    765\n",
        "45836    665\n",
        "52330    660\n",
        "48243    685\n",
        "63256    670\n",
        "42124    710\n",
        "78043    720\n",
        "925      710\n",
        "74047    675\n",
        "49957    685\n",
        "23735    705\n",
        "65882    740\n",
        "55610    680\n",
        "38576    675\n",
        "3116     670\n",
        "Name: FICO.Score, Length: 2500, dtype: object"
       ]
      }
     ],
     "prompt_number": 26
    },
    {
     "cell_type": "code",
     "collapsed": false,
     "input": [
      "loansData['FICO.Score'] = loansData['FICO.Score'].apply(float)"
     ],
     "language": "python",
     "metadata": {},
     "outputs": [],
     "prompt_number": 27
    },
    {
     "cell_type": "code",
     "collapsed": false,
     "input": [
      "type (x)"
     ],
     "language": "python",
     "metadata": {},
     "outputs": [
      {
       "metadata": {},
       "output_type": "pyout",
       "prompt_number": 30,
       "text": [
        "str"
       ]
      }
     ],
     "prompt_number": 30
    },
    {
     "cell_type": "code",
     "collapsed": false,
     "input": [
      "x"
     ],
     "language": "python",
     "metadata": {},
     "outputs": [
      {
       "metadata": {},
       "output_type": "pyout",
       "prompt_number": 31,
       "text": [
        "'12.12%'"
       ]
      }
     ],
     "prompt_number": 31
    },
    {
     "cell_type": "code",
     "collapsed": false,
     "input": [
      "loansData['Interest.Rate']"
     ],
     "language": "python",
     "metadata": {},
     "outputs": [
      {
       "metadata": {},
       "output_type": "pyout",
       "prompt_number": 32,
       "text": [
        "81174     8.90%\n",
        "99592    12.12%\n",
        "80059    21.98%\n",
        "15825     9.99%\n",
        "33182    11.71%\n",
        "62403    15.31%\n",
        "48808     7.90%\n",
        "22090    17.14%\n",
        "76404    14.33%\n",
        "15867     6.91%\n",
        "94971    19.72%\n",
        "36911    14.27%\n",
        "41200    21.67%\n",
        "83869     8.90%\n",
        "53853     7.62%\n",
        "...\n",
        "13070    10.75%\n",
        "45836    17.27%\n",
        "52330    19.99%\n",
        "48243    15.81%\n",
        "63256    18.75%\n",
        "42124    11.71%\n",
        "78043     7.62%\n",
        "925      10.08%\n",
        "74047    23.28%\n",
        "49957    14.65%\n",
        "23735    16.77%\n",
        "65882    14.09%\n",
        "55610    13.99%\n",
        "38576    12.42%\n",
        "3116     13.79%\n",
        "Name: Interest.Rate, Length: 2500, dtype: object"
       ]
      }
     ],
     "prompt_number": 32
    },
    {
     "cell_type": "code",
     "collapsed": false,
     "input": [
      "cleanInterestRate = loansData['Interest.Rate'].map(lambda x: round(float(x.rstrip('%')) /100,4))"
     ],
     "language": "python",
     "metadata": {},
     "outputs": [],
     "prompt_number": 33
    },
    {
     "cell_type": "code",
     "collapsed": false,
     "input": [
      "cleanInterestRate"
     ],
     "language": "python",
     "metadata": {},
     "outputs": [
      {
       "metadata": {},
       "output_type": "pyout",
       "prompt_number": 34,
       "text": [
        "81174    0.0890\n",
        "99592    0.1212\n",
        "80059    0.2198\n",
        "15825    0.0999\n",
        "33182    0.1171\n",
        "62403    0.1531\n",
        "48808    0.0790\n",
        "22090    0.1714\n",
        "76404    0.1433\n",
        "15867    0.0691\n",
        "94971    0.1972\n",
        "36911    0.1427\n",
        "41200    0.2167\n",
        "83869    0.0890\n",
        "53853    0.0762\n",
        "...\n",
        "13070    0.1075\n",
        "45836    0.1727\n",
        "52330    0.1999\n",
        "48243    0.1581\n",
        "63256    0.1875\n",
        "42124    0.1171\n",
        "78043    0.0762\n",
        "925      0.1008\n",
        "74047    0.2328\n",
        "49957    0.1465\n",
        "23735    0.1677\n",
        "65882    0.1409\n",
        "55610    0.1399\n",
        "38576    0.1242\n",
        "3116     0.1379\n",
        "Name: Interest.Rate, Length: 2500, dtype: float64"
       ]
      }
     ],
     "prompt_number": 34
    },
    {
     "cell_type": "code",
     "collapsed": false,
     "input": [
      "import numpy as np"
     ],
     "language": "python",
     "metadata": {},
     "outputs": [],
     "prompt_number": 35
    },
    {
     "cell_type": "code",
     "collapsed": false,
     "input": [
      "import pandas as pd"
     ],
     "language": "python",
     "metadata": {},
     "outputs": [],
     "prompt_number": 36
    },
    {
     "cell_type": "code",
     "collapsed": false,
     "input": [
      "import statsmodels.api as sm"
     ],
     "language": "python",
     "metadata": {},
     "outputs": [],
     "prompt_number": 37
    },
    {
     "cell_type": "code",
     "collapsed": false,
     "input": [
      "intrate = cleanInterestRate"
     ],
     "language": "python",
     "metadata": {},
     "outputs": [],
     "prompt_number": 38
    },
    {
     "cell_type": "code",
     "collapsed": false,
     "input": [
      "intrate"
     ],
     "language": "python",
     "metadata": {},
     "outputs": [
      {
       "metadata": {},
       "output_type": "pyout",
       "prompt_number": 39,
       "text": [
        "81174    0.0890\n",
        "99592    0.1212\n",
        "80059    0.2198\n",
        "15825    0.0999\n",
        "33182    0.1171\n",
        "62403    0.1531\n",
        "48808    0.0790\n",
        "22090    0.1714\n",
        "76404    0.1433\n",
        "15867    0.0691\n",
        "94971    0.1972\n",
        "36911    0.1427\n",
        "41200    0.2167\n",
        "83869    0.0890\n",
        "53853    0.0762\n",
        "...\n",
        "13070    0.1075\n",
        "45836    0.1727\n",
        "52330    0.1999\n",
        "48243    0.1581\n",
        "63256    0.1875\n",
        "42124    0.1171\n",
        "78043    0.0762\n",
        "925      0.1008\n",
        "74047    0.2328\n",
        "49957    0.1465\n",
        "23735    0.1677\n",
        "65882    0.1409\n",
        "55610    0.1399\n",
        "38576    0.1242\n",
        "3116     0.1379\n",
        "Name: Interest.Rate, Length: 2500, dtype: float64"
       ]
      }
     ],
     "prompt_number": 39
    },
    {
     "cell_type": "code",
     "collapsed": false,
     "input": [
      "loanamt = loansData['Amount.Requested']"
     ],
     "language": "python",
     "metadata": {},
     "outputs": [],
     "prompt_number": 40
    },
    {
     "cell_type": "code",
     "collapsed": false,
     "input": [
      "fico = loansData['FICO.Score']"
     ],
     "language": "python",
     "metadata": {},
     "outputs": [],
     "prompt_number": 41
    },
    {
     "cell_type": "code",
     "collapsed": false,
     "input": [
      "y = np.matrix(intrate).transpose()"
     ],
     "language": "python",
     "metadata": {},
     "outputs": [],
     "prompt_number": 42
    },
    {
     "cell_type": "code",
     "collapsed": false,
     "input": [
      "x1 = np.matrix(fico).transpose()"
     ],
     "language": "python",
     "metadata": {},
     "outputs": [],
     "prompt_number": 43
    },
    {
     "cell_type": "code",
     "collapsed": false,
     "input": [
      "x2 = np.matrix(loanamt).transpose()"
     ],
     "language": "python",
     "metadata": {},
     "outputs": [],
     "prompt_number": 44
    },
    {
     "cell_type": "code",
     "collapsed": false,
     "input": [
      "x = np.column_stack([x1,x2])"
     ],
     "language": "python",
     "metadata": {},
     "outputs": [],
     "prompt_number": 45
    },
    {
     "cell_type": "code",
     "collapsed": false,
     "input": [
      "x = sm.add_constant(x)"
     ],
     "language": "python",
     "metadata": {},
     "outputs": [],
     "prompt_number": 46
    },
    {
     "cell_type": "code",
     "collapsed": false,
     "input": [
      "model = sm.OLS(y,x)"
     ],
     "language": "python",
     "metadata": {},
     "outputs": [],
     "prompt_number": 47
    },
    {
     "cell_type": "code",
     "collapsed": false,
     "input": [
      "f = model.fit()"
     ],
     "language": "python",
     "metadata": {},
     "outputs": [],
     "prompt_number": 48
    },
    {
     "cell_type": "code",
     "collapsed": false,
     "input": [
      "print 'Coefficient: ',f.params[0:2]\n",
      "print 'Intercept: ', f.params[2]\n",
      "print 'P-Values: ', f.pvalues\n",
      "print 'R-Squared: ', f.rsquared"
     ],
     "language": "python",
     "metadata": {},
     "outputs": [
      {
       "output_type": "stream",
       "stream": "stdout",
       "text": [
        "Coefficient:  [ 0.72882798 -0.00088442]\n",
        "Intercept:  2.10747768548e-06\n",
        "P-Values:  "
       ]
      },
      {
       "output_type": "stream",
       "stream": "stdout",
       "text": [
        "[  0.00000000e+000   0.00000000e+000   5.96972978e-203]\n",
        "R-Squared:  0.656632624649\n"
       ]
      }
     ],
     "prompt_number": 49
    },
    {
     "cell_type": "code",
     "collapsed": false,
     "input": [
      "# P-values of model = P-Values are extremely small hence no statistical\n",
      "#signifcance; R2 = .66 and is below benchmark of .80 "
     ],
     "language": "python",
     "metadata": {},
     "outputs": [],
     "prompt_number": 51
    },
    {
     "cell_type": "code",
     "collapsed": false,
     "input": [
      "exit()"
     ],
     "language": "python",
     "metadata": {},
     "outputs": [],
     "prompt_number": 52
    },
    {
     "cell_type": "code",
     "collapsed": false,
     "input": [],
     "language": "python",
     "metadata": {},
     "outputs": []
    }
   ],
   "metadata": {}
  }
 ]
}